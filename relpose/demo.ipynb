{
 "cells": [
  {
   "cell_type": "code",
   "execution_count": 20,
   "id": "d78aaa69",
   "metadata": {},
   "outputs": [],
   "source": [
    "import torch\n",
    "import matplotlib\n",
    "import matplotlib.pyplot as plt\n",
    "import numpy as np\n",
    "import os\n",
    "import os.path as osp\n",
    "from PIL import Image\n",
    "\n",
    "from pytorch3d.renderer import FoVPerspectiveCameras\n",
    "from pytorch3d.vis.plotly_vis import plot_scene\n",
    "\n",
    "from dataset import CustomDataset\n",
    "from eval import evaluate_coordinate_ascent, evaluate_mst\n",
    "from models import get_model\n",
    "from utils import (\n",
    "    unnormalize_image,\n",
    "    view_color_coded_images_from_tensor,\n",
    "    view_color_coded_images_from_path,\n",
    ")\n",
    "\n",
    "os.environ[\"CUDA_DEVICE_ORDER\"] = \"PCI_BUS_ID\"\n",
    "os.environ[\"CUDA_VISIBLE_DEVICES\"] = \"2\""
   ]
  },
  {
   "cell_type": "code",
   "execution_count": 21,
   "id": "3239aade",
   "metadata": {},
   "outputs": [],
   "source": [
    "IMAGE_DIR = \"../examples/balm\"\n",
    "WEIGHTS_DIR = \"../weights\""
   ]
  },
  {
   "cell_type": "code",
   "execution_count": 22,
   "id": "bf5eee36",
   "metadata": {},
   "outputs": [
    {
     "name": "stdout",
     "output_type": "stream",
     "text": [
      "[[303.0, 404.0, 2722.2000000000003, 3629.6000000000004], [303.0, 404.0, 2722.2000000000003, 3629.6000000000004], [303.0, 404.0, 2722.2000000000003, 3629.6000000000004], [1008.0, 756.0, 3024.0, 2268.0]]\n"
     ]
    }
   ],
   "source": [
    "bboxes = []\n",
    "tightness = [0.8, 0.8, 0.8, 0.5]\n",
    "for t, image_path in zip(tightness, sorted(os.listdir(IMAGE_DIR))):\n",
    "    im = Image.open(osp.join(IMAGE_DIR, image_path))\n",
    "    x, y = im.width, im.height\n",
    "    cropx, cropy = im.width * t, im.height * t\n",
    "    startx = x // 2 - (cropx // 2)\n",
    "    starty = y // 2 - (cropy // 2)\n",
    "    bboxes.append([startx, starty, startx + cropx, starty + cropy])\n",
    "\n",
    "print(bboxes)"
   ]
  },
  {
   "cell_type": "code",
   "execution_count": 23,
   "id": "43ed10cb",
   "metadata": {},
   "outputs": [
    {
     "ename": "IndexError",
     "evalue": "list index out of range",
     "output_type": "error",
     "traceback": [
      "\u001b[0;31m---------------------------------------------------------------------------\u001b[0m",
      "\u001b[0;31mIndexError\u001b[0m                                Traceback (most recent call last)",
      "Input \u001b[0;32mIn [23]\u001b[0m, in \u001b[0;36m<module>\u001b[0;34m\u001b[0m\n\u001b[1;32m      1\u001b[0m \u001b[38;5;66;03m# Load in the wild images\u001b[39;00m\n\u001b[0;32m----> 2\u001b[0m dataset \u001b[38;5;241m=\u001b[39m \u001b[43mCustomDataset\u001b[49m\u001b[43m(\u001b[49m\n\u001b[1;32m      3\u001b[0m \u001b[43m    \u001b[49m\u001b[43mimage_dir\u001b[49m\u001b[38;5;241;43m=\u001b[39;49m\u001b[43mIMAGE_DIR\u001b[49m\u001b[43m,\u001b[49m\n\u001b[1;32m      4\u001b[0m \u001b[43m    \u001b[49m\u001b[43mbboxes\u001b[49m\u001b[38;5;241;43m=\u001b[39;49m\u001b[43mbboxes\u001b[49m\n\u001b[1;32m      5\u001b[0m \u001b[43m)\u001b[49m\n\u001b[1;32m      6\u001b[0m num_frames \u001b[38;5;241m=\u001b[39m dataset[\u001b[38;5;241m0\u001b[39m][\u001b[38;5;124m\"\u001b[39m\u001b[38;5;124mn\u001b[39m\u001b[38;5;124m\"\u001b[39m]\n\u001b[1;32m      7\u001b[0m images \u001b[38;5;241m=\u001b[39m dataset[\u001b[38;5;241m0\u001b[39m][\u001b[38;5;124m\"\u001b[39m\u001b[38;5;124mimage\u001b[39m\u001b[38;5;124m\"\u001b[39m]\u001b[38;5;241m.\u001b[39mto(\u001b[38;5;124m\"\u001b[39m\u001b[38;5;124mcuda\u001b[39m\u001b[38;5;124m\"\u001b[39m)\n",
      "File \u001b[0;32m~/relpose-plus-plus/relpose/dataset/custom.py:40\u001b[0m, in \u001b[0;36mCustomDataset.__init__\u001b[0;34m(self, image_dir, bboxes)\u001b[0m\n\u001b[1;32m     37\u001b[0m \u001b[38;5;28;01mfor\u001b[39;00m i, image_path \u001b[38;5;129;01min\u001b[39;00m \u001b[38;5;28menumerate\u001b[39m(\u001b[38;5;28msorted\u001b[39m(os\u001b[38;5;241m.\u001b[39mlistdir(image_dir))):\n\u001b[1;32m     38\u001b[0m     image \u001b[38;5;241m=\u001b[39m Image\u001b[38;5;241m.\u001b[39mopen(osp\u001b[38;5;241m.\u001b[39mjoin(image_dir, image_path))\n\u001b[0;32m---> 40\u001b[0m     bbox \u001b[38;5;241m=\u001b[39m np\u001b[38;5;241m.\u001b[39marray(\u001b[38;5;28;43mself\u001b[39;49m\u001b[38;5;241;43m.\u001b[39;49m\u001b[43mbboxes\u001b[49m\u001b[43m[\u001b[49m\u001b[43mi\u001b[49m\u001b[43m]\u001b[49m)\n\u001b[1;32m     41\u001b[0m     bbox_jitter \u001b[38;5;241m=\u001b[39m \u001b[38;5;28mself\u001b[39m\u001b[38;5;241m.\u001b[39m_jitter_bbox(bbox)\n\u001b[1;32m     42\u001b[0m     image \u001b[38;5;241m=\u001b[39m \u001b[38;5;28mself\u001b[39m\u001b[38;5;241m.\u001b[39m_crop_image(image, bbox_jitter)\n",
      "\u001b[0;31mIndexError\u001b[0m: list index out of range"
     ]
    }
   ],
   "source": [
    "# Load in the wild images\n",
    "dataset = CustomDataset(image_dir=IMAGE_DIR, bboxes=bboxes)\n",
    "num_frames = dataset[0][\"n\"]\n",
    "images = dataset[0][\"image\"].to(\"cuda\")\n",
    "crop_params = dataset[0][\"crop_params\"].to(\"cuda\")"
   ]
  },
  {
   "cell_type": "code",
   "execution_count": null,
   "id": "0d21c78f",
   "metadata": {},
   "outputs": [],
   "source": [
    "from PIL import Image\n",
    "\n",
    "picture_location = \"/home/amyxlase/relpose-plus-plus/examples/balm/IMG_2253.jpg\"\n",
    "compressed_picture_location = (\n",
    "    \"/home/amyxlase/relpose-plus-plus/examples/balm/IMG_2253-compressed.jpg\"\n",
    ")\n",
    "im = Image.open(picture_location)\n",
    "quality = 1\n",
    "im.save(compressed_picture_location, quality=quality)"
   ]
  },
  {
   "cell_type": "code",
   "execution_count": 25,
   "id": "76a00bd0",
   "metadata": {},
   "outputs": [
    {
     "name": "stdout",
     "output_type": "stream",
     "text": [
      "Loading checkpoint ckpt_000400000.pth\n",
      "Missing keys: ['feature_extractor.feature_positional_encoding.pos_table_1']\n",
      "Unexpected keys: []\n"
     ]
    }
   ],
   "source": [
    "# Load pretrained weights\n",
    "model = get_model(model_dir=WEIGHTS_DIR, num_images=num_frames, device=\"cuda\")"
   ]
  },
  {
   "cell_type": "code",
   "execution_count": 26,
   "id": "e917d0ca",
   "metadata": {},
   "outputs": [
    {
     "name": "stdout",
     "output_type": "stream",
     "text": [
      "[[303.0, 404.0, 2722.2000000000003, 3629.6000000000004], [303.0, 404.0, 2722.2000000000003, 3629.6000000000004], [404.0, 303.0, 3629.6000000000004, 2722.2000000000003], [1008.0, 756.0, 3024.0, 2268.0]]\n",
      "(4, 3, 3)\n",
      "torch.Size([4, 3])\n"
     ]
    }
   ],
   "source": [
    "# Initialize a quick, reasonable solution using MST reasoning\n",
    "batched_images, batched_crop_params = images.unsqueeze(0), crop_params.unsqueeze(0)\n",
    "\n",
    "print(dataset.bboxes)\n",
    "\n",
    "_, hypothesis = evaluate_mst(\n",
    "    model=model,\n",
    "    images=batched_images,\n",
    "    use_all_features=True,\n",
    "    crop_params=batched_crop_params,\n",
    ")\n",
    "R_pred = np.stack(hypothesis)\n",
    "\n",
    "\n",
    "# Regress to optimal translation\n",
    "with torch.no_grad():\n",
    "    _, _, T_pred = model(images=batched_images, crop_params=batched_crop_params)\n",
    "\n",
    "print(R_pred.shape)\n",
    "print(T_pred.shape)"
   ]
  },
  {
   "cell_type": "code",
   "execution_count": 27,
   "id": "a0c901f8",
   "metadata": {},
   "outputs": [
    {
     "data": {
      "application/vnd.plotly.v1+json": {
       "config": {
        "plotlyServerURL": "https://plot.ly"
       },
       "data": [
        {
         "line": {
          "color": "#ff0000"
         },
         "marker": {
          "size": 1
         },
         "name": "0",
         "scene": "scene",
         "type": "scatter3d",
         "x": [
          -0.04086370766162872,
          -0.010863706469535828,
          -0.010863706469535828,
          -0.010863706469535828,
          0.01913629285991192,
          0.01913629285991192,
          -0.04086370766162872,
          -0.04086370766162872,
          -0.010863706469535828,
          0.01913629285991192,
          0.01913629285991192,
          -0.010863706469535828,
          -0.04086370766162872,
          -0.010863706469535828,
          -0.010863706469535828
         ],
         "y": [
          -0.02272973395884037,
          -0.02272973395884037,
          -0.015229733660817146,
          -0.02272973395884037,
          -0.02272973395884037,
          -0.06772973388433456,
          -0.06772973388433456,
          -0.02272973395884037,
          -0.04522973299026489,
          -0.02272973395884037,
          -0.06772973388433456,
          -0.04522973299026489,
          -0.06772973388433456,
          -0.04522973299026489,
          -0.04522973299026489
         ],
         "z": [
          -0.9376537203788757,
          -0.9376537203788757,
          -0.9376537203788757,
          -0.9376537203788757,
          -0.9376537203788757,
          -0.9376537203788757,
          -0.9376537203788757,
          -0.9376537203788757,
          -0.9976537227630615,
          -0.9376537203788757,
          -0.9376537203788757,
          -0.9976537227630615,
          -0.9376537203788757,
          -0.9976537227630615,
          -0.9076537489891052
         ]
        },
        {
         "line": {
          "color": "#84ff00"
         },
         "marker": {
          "size": 1
         },
         "name": "1",
         "scene": "scene",
         "type": "scatter3d",
         "x": [
          -0.4266356825828552,
          -0.4260188043117523,
          -0.4193670451641083,
          -0.4260188043117523,
          -0.4254019558429718,
          -0.46531257033348083,
          -0.46654629707336426,
          -0.4266356825828552,
          -0.47366398572921753,
          -0.4254019558429718,
          -0.46531257033348083,
          -0.47366398572921753,
          -0.46654629707336426,
          -0.47366398572921753,
          -0.4321292042732239
         ],
         "y": [
          0.5256520509719849,
          0.5002360343933105,
          0.5021902322769165,
          0.5002360343933105,
          0.474820077419281,
          0.46309494972229004,
          0.5139268636703491,
          0.5256520509719849,
          0.5221530795097351,
          0.474820077419281,
          0.46309494972229004,
          0.5221530795097351,
          0.5139268636703491,
          0.5221530795097351,
          0.48048368096351624
         ],
         "z": [
          -0.6756032705307007,
          -0.6915295720100403,
          -0.6943905353546143,
          -0.6915295720100403,
          -0.7074558734893799,
          -0.6902901530265808,
          -0.6584375500679016,
          -0.6756032705307007,
          -0.7283511757850647,
          -0.7074558734893799,
          -0.6902901530265808,
          -0.7283511757850647,
          -0.6584375500679016,
          -0.7283511757850647,
          -0.6602444648742676
         ]
        },
        {
         "line": {
          "color": "#00fff6"
         },
         "marker": {
          "size": 1
         },
         "name": "2",
         "scene": "scene",
         "type": "scatter3d",
         "x": [
          0.6416800022125244,
          0.6293920874595642,
          0.6250002384185791,
          0.6293920874595642,
          0.617104172706604,
          0.6434553265571594,
          0.6680312156677246,
          0.6416800022125244,
          0.6845386624336243,
          0.617104172706604,
          0.6434553265571594,
          0.6845386624336243,
          0.6680312156677246,
          0.6845386624336243,
          0.6215821504592896
         ],
         "y": [
          0.5121205449104309,
          0.5330363512039185,
          0.5352382659912109,
          0.5330363512039185,
          0.553952157497406,
          0.5407407283782959,
          0.498909056186676,
          0.5121205449104309,
          0.5656710863113403,
          0.553952157497406,
          0.5407407283782959,
          0.5656710863113403,
          0.498909056186676,
          0.5656710863113403,
          0.5068103671073914
         ],
         "z": [
          -0.3087918758392334,
          -0.2911415100097656,
          -0.2968083620071411,
          -0.2911415100097656,
          -0.27349117398262024,
          -0.2394901067018509,
          -0.27479079365730286,
          -0.3087918758392334,
          -0.29142165184020996,
          -0.27349117398262024,
          -0.2394901067018509,
          -0.29142165184020996,
          -0.27479079365730286,
          -0.29142165184020996,
          -0.26550066471099854
         ]
        },
        {
         "line": {
          "color": "#7200ff"
         },
         "marker": {
          "size": 1
         },
         "name": "3",
         "scene": "scene",
         "type": "scatter3d",
         "x": [
          0.023016616702079773,
          -0.005924336612224579,
          -0.007861139252781868,
          -0.005924336612224579,
          -0.03486528992652893,
          -0.023244470357894897,
          0.034637436270713806,
          0.023016616702079773,
          0.002985578030347824,
          -0.03486528992652893,
          -0.023244470357894897,
          0.002985578030347824,
          0.034637436270713806,
          0.002985578030347824,
          -0.0016636778600513935
         ],
         "y": [
          0.9021735787391663,
          0.9044934511184692,
          0.9038165807723999,
          0.9044934511184692,
          0.9068132638931274,
          0.9108744859695435,
          0.9062348008155823,
          0.9021735787391663,
          0.9660987854003906,
          0.9068132638931274,
          0.9108744859695435,
          0.9660987854003906,
          0.9062348008155823,
          0.9660987854003906,
          0.8767366409301758
         ],
         "z": [
          -0.19411702454090118,
          -0.1865645796060562,
          -0.19377849996089935,
          -0.1865645796060562,
          -0.17901213467121124,
          -0.1357286274433136,
          -0.15083350241184235,
          -0.19411702454090118,
          -0.17134475708007812,
          -0.17901213467121124,
          -0.1357286274433136,
          -0.17134475708007812,
          -0.15083350241184235,
          -0.17134475708007812,
          -0.16171185672283173
         ]
        }
       ],
       "layout": {
        "annotations": [
         {
          "font": {
           "size": 16
          },
          "showarrow": false,
          "text": "Predicted Cameras",
          "x": 0.225,
          "xanchor": "center",
          "xref": "paper",
          "y": 1,
          "yanchor": "bottom",
          "yref": "paper"
         }
        ],
        "scene": {
         "aspectmode": "data",
         "camera": {
          "up": {
           "x": 0,
           "y": 1,
           "z": 0
          }
         },
         "domain": {
          "x": [
           0,
           0.45
          ],
          "y": [
           0,
           1
          ]
         },
         "xaxis": {
          "backgroundcolor": "#fff",
          "range": [
           -0.5160682201385498,
           0.7159367203712463
          ],
          "showaxeslabels": false,
          "showgrid": false,
          "showline": false,
          "showticklabels": false,
          "ticks": "",
          "zeroline": false
         },
         "yaxis": {
          "backgroundcolor": "#fff",
          "range": [
           -0.13022971153259277,
           1.0053640604019165
          ],
          "showaxeslabels": false,
          "showgrid": false,
          "showline": false,
          "showticklabels": false,
          "ticks": "",
          "zeroline": false
         },
         "zaxis": {
          "backgroundcolor": "#fff",
          "range": [
           -1.0376536846160889,
           -0.0814402848482132
          ],
          "showaxeslabels": false,
          "showgrid": false,
          "showline": false,
          "showticklabels": false,
          "ticks": "",
          "zeroline": false
         }
        },
        "scene2": {
         "aspectmode": "data",
         "domain": {
          "x": [
           0.55,
           1
          ],
          "y": [
           0,
           1
          ]
         }
        },
        "template": {
         "data": {
          "bar": [
           {
            "error_x": {
             "color": "#2a3f5f"
            },
            "error_y": {
             "color": "#2a3f5f"
            },
            "marker": {
             "line": {
              "color": "#E5ECF6",
              "width": 0.5
             },
             "pattern": {
              "fillmode": "overlay",
              "size": 10,
              "solidity": 0.2
             }
            },
            "type": "bar"
           }
          ],
          "barpolar": [
           {
            "marker": {
             "line": {
              "color": "#E5ECF6",
              "width": 0.5
             },
             "pattern": {
              "fillmode": "overlay",
              "size": 10,
              "solidity": 0.2
             }
            },
            "type": "barpolar"
           }
          ],
          "carpet": [
           {
            "aaxis": {
             "endlinecolor": "#2a3f5f",
             "gridcolor": "white",
             "linecolor": "white",
             "minorgridcolor": "white",
             "startlinecolor": "#2a3f5f"
            },
            "baxis": {
             "endlinecolor": "#2a3f5f",
             "gridcolor": "white",
             "linecolor": "white",
             "minorgridcolor": "white",
             "startlinecolor": "#2a3f5f"
            },
            "type": "carpet"
           }
          ],
          "choropleth": [
           {
            "colorbar": {
             "outlinewidth": 0,
             "ticks": ""
            },
            "type": "choropleth"
           }
          ],
          "contour": [
           {
            "colorbar": {
             "outlinewidth": 0,
             "ticks": ""
            },
            "colorscale": [
             [
              0,
              "#0d0887"
             ],
             [
              0.1111111111111111,
              "#46039f"
             ],
             [
              0.2222222222222222,
              "#7201a8"
             ],
             [
              0.3333333333333333,
              "#9c179e"
             ],
             [
              0.4444444444444444,
              "#bd3786"
             ],
             [
              0.5555555555555556,
              "#d8576b"
             ],
             [
              0.6666666666666666,
              "#ed7953"
             ],
             [
              0.7777777777777778,
              "#fb9f3a"
             ],
             [
              0.8888888888888888,
              "#fdca26"
             ],
             [
              1,
              "#f0f921"
             ]
            ],
            "type": "contour"
           }
          ],
          "contourcarpet": [
           {
            "colorbar": {
             "outlinewidth": 0,
             "ticks": ""
            },
            "type": "contourcarpet"
           }
          ],
          "heatmap": [
           {
            "colorbar": {
             "outlinewidth": 0,
             "ticks": ""
            },
            "colorscale": [
             [
              0,
              "#0d0887"
             ],
             [
              0.1111111111111111,
              "#46039f"
             ],
             [
              0.2222222222222222,
              "#7201a8"
             ],
             [
              0.3333333333333333,
              "#9c179e"
             ],
             [
              0.4444444444444444,
              "#bd3786"
             ],
             [
              0.5555555555555556,
              "#d8576b"
             ],
             [
              0.6666666666666666,
              "#ed7953"
             ],
             [
              0.7777777777777778,
              "#fb9f3a"
             ],
             [
              0.8888888888888888,
              "#fdca26"
             ],
             [
              1,
              "#f0f921"
             ]
            ],
            "type": "heatmap"
           }
          ],
          "heatmapgl": [
           {
            "colorbar": {
             "outlinewidth": 0,
             "ticks": ""
            },
            "colorscale": [
             [
              0,
              "#0d0887"
             ],
             [
              0.1111111111111111,
              "#46039f"
             ],
             [
              0.2222222222222222,
              "#7201a8"
             ],
             [
              0.3333333333333333,
              "#9c179e"
             ],
             [
              0.4444444444444444,
              "#bd3786"
             ],
             [
              0.5555555555555556,
              "#d8576b"
             ],
             [
              0.6666666666666666,
              "#ed7953"
             ],
             [
              0.7777777777777778,
              "#fb9f3a"
             ],
             [
              0.8888888888888888,
              "#fdca26"
             ],
             [
              1,
              "#f0f921"
             ]
            ],
            "type": "heatmapgl"
           }
          ],
          "histogram": [
           {
            "marker": {
             "pattern": {
              "fillmode": "overlay",
              "size": 10,
              "solidity": 0.2
             }
            },
            "type": "histogram"
           }
          ],
          "histogram2d": [
           {
            "colorbar": {
             "outlinewidth": 0,
             "ticks": ""
            },
            "colorscale": [
             [
              0,
              "#0d0887"
             ],
             [
              0.1111111111111111,
              "#46039f"
             ],
             [
              0.2222222222222222,
              "#7201a8"
             ],
             [
              0.3333333333333333,
              "#9c179e"
             ],
             [
              0.4444444444444444,
              "#bd3786"
             ],
             [
              0.5555555555555556,
              "#d8576b"
             ],
             [
              0.6666666666666666,
              "#ed7953"
             ],
             [
              0.7777777777777778,
              "#fb9f3a"
             ],
             [
              0.8888888888888888,
              "#fdca26"
             ],
             [
              1,
              "#f0f921"
             ]
            ],
            "type": "histogram2d"
           }
          ],
          "histogram2dcontour": [
           {
            "colorbar": {
             "outlinewidth": 0,
             "ticks": ""
            },
            "colorscale": [
             [
              0,
              "#0d0887"
             ],
             [
              0.1111111111111111,
              "#46039f"
             ],
             [
              0.2222222222222222,
              "#7201a8"
             ],
             [
              0.3333333333333333,
              "#9c179e"
             ],
             [
              0.4444444444444444,
              "#bd3786"
             ],
             [
              0.5555555555555556,
              "#d8576b"
             ],
             [
              0.6666666666666666,
              "#ed7953"
             ],
             [
              0.7777777777777778,
              "#fb9f3a"
             ],
             [
              0.8888888888888888,
              "#fdca26"
             ],
             [
              1,
              "#f0f921"
             ]
            ],
            "type": "histogram2dcontour"
           }
          ],
          "mesh3d": [
           {
            "colorbar": {
             "outlinewidth": 0,
             "ticks": ""
            },
            "type": "mesh3d"
           }
          ],
          "parcoords": [
           {
            "line": {
             "colorbar": {
              "outlinewidth": 0,
              "ticks": ""
             }
            },
            "type": "parcoords"
           }
          ],
          "pie": [
           {
            "automargin": true,
            "type": "pie"
           }
          ],
          "scatter": [
           {
            "marker": {
             "colorbar": {
              "outlinewidth": 0,
              "ticks": ""
             }
            },
            "type": "scatter"
           }
          ],
          "scatter3d": [
           {
            "line": {
             "colorbar": {
              "outlinewidth": 0,
              "ticks": ""
             }
            },
            "marker": {
             "colorbar": {
              "outlinewidth": 0,
              "ticks": ""
             }
            },
            "type": "scatter3d"
           }
          ],
          "scattercarpet": [
           {
            "marker": {
             "colorbar": {
              "outlinewidth": 0,
              "ticks": ""
             }
            },
            "type": "scattercarpet"
           }
          ],
          "scattergeo": [
           {
            "marker": {
             "colorbar": {
              "outlinewidth": 0,
              "ticks": ""
             }
            },
            "type": "scattergeo"
           }
          ],
          "scattergl": [
           {
            "marker": {
             "colorbar": {
              "outlinewidth": 0,
              "ticks": ""
             }
            },
            "type": "scattergl"
           }
          ],
          "scattermapbox": [
           {
            "marker": {
             "colorbar": {
              "outlinewidth": 0,
              "ticks": ""
             }
            },
            "type": "scattermapbox"
           }
          ],
          "scatterpolar": [
           {
            "marker": {
             "colorbar": {
              "outlinewidth": 0,
              "ticks": ""
             }
            },
            "type": "scatterpolar"
           }
          ],
          "scatterpolargl": [
           {
            "marker": {
             "colorbar": {
              "outlinewidth": 0,
              "ticks": ""
             }
            },
            "type": "scatterpolargl"
           }
          ],
          "scatterternary": [
           {
            "marker": {
             "colorbar": {
              "outlinewidth": 0,
              "ticks": ""
             }
            },
            "type": "scatterternary"
           }
          ],
          "surface": [
           {
            "colorbar": {
             "outlinewidth": 0,
             "ticks": ""
            },
            "colorscale": [
             [
              0,
              "#0d0887"
             ],
             [
              0.1111111111111111,
              "#46039f"
             ],
             [
              0.2222222222222222,
              "#7201a8"
             ],
             [
              0.3333333333333333,
              "#9c179e"
             ],
             [
              0.4444444444444444,
              "#bd3786"
             ],
             [
              0.5555555555555556,
              "#d8576b"
             ],
             [
              0.6666666666666666,
              "#ed7953"
             ],
             [
              0.7777777777777778,
              "#fb9f3a"
             ],
             [
              0.8888888888888888,
              "#fdca26"
             ],
             [
              1,
              "#f0f921"
             ]
            ],
            "type": "surface"
           }
          ],
          "table": [
           {
            "cells": {
             "fill": {
              "color": "#EBF0F8"
             },
             "line": {
              "color": "white"
             }
            },
            "header": {
             "fill": {
              "color": "#C8D4E3"
             },
             "line": {
              "color": "white"
             }
            },
            "type": "table"
           }
          ]
         },
         "layout": {
          "annotationdefaults": {
           "arrowcolor": "#2a3f5f",
           "arrowhead": 0,
           "arrowwidth": 1
          },
          "autotypenumbers": "strict",
          "coloraxis": {
           "colorbar": {
            "outlinewidth": 0,
            "ticks": ""
           }
          },
          "colorscale": {
           "diverging": [
            [
             0,
             "#8e0152"
            ],
            [
             0.1,
             "#c51b7d"
            ],
            [
             0.2,
             "#de77ae"
            ],
            [
             0.3,
             "#f1b6da"
            ],
            [
             0.4,
             "#fde0ef"
            ],
            [
             0.5,
             "#f7f7f7"
            ],
            [
             0.6,
             "#e6f5d0"
            ],
            [
             0.7,
             "#b8e186"
            ],
            [
             0.8,
             "#7fbc41"
            ],
            [
             0.9,
             "#4d9221"
            ],
            [
             1,
             "#276419"
            ]
           ],
           "sequential": [
            [
             0,
             "#0d0887"
            ],
            [
             0.1111111111111111,
             "#46039f"
            ],
            [
             0.2222222222222222,
             "#7201a8"
            ],
            [
             0.3333333333333333,
             "#9c179e"
            ],
            [
             0.4444444444444444,
             "#bd3786"
            ],
            [
             0.5555555555555556,
             "#d8576b"
            ],
            [
             0.6666666666666666,
             "#ed7953"
            ],
            [
             0.7777777777777778,
             "#fb9f3a"
            ],
            [
             0.8888888888888888,
             "#fdca26"
            ],
            [
             1,
             "#f0f921"
            ]
           ],
           "sequentialminus": [
            [
             0,
             "#0d0887"
            ],
            [
             0.1111111111111111,
             "#46039f"
            ],
            [
             0.2222222222222222,
             "#7201a8"
            ],
            [
             0.3333333333333333,
             "#9c179e"
            ],
            [
             0.4444444444444444,
             "#bd3786"
            ],
            [
             0.5555555555555556,
             "#d8576b"
            ],
            [
             0.6666666666666666,
             "#ed7953"
            ],
            [
             0.7777777777777778,
             "#fb9f3a"
            ],
            [
             0.8888888888888888,
             "#fdca26"
            ],
            [
             1,
             "#f0f921"
            ]
           ]
          },
          "colorway": [
           "#636efa",
           "#EF553B",
           "#00cc96",
           "#ab63fa",
           "#FFA15A",
           "#19d3f3",
           "#FF6692",
           "#B6E880",
           "#FF97FF",
           "#FECB52"
          ],
          "font": {
           "color": "#2a3f5f"
          },
          "geo": {
           "bgcolor": "white",
           "lakecolor": "white",
           "landcolor": "#E5ECF6",
           "showlakes": true,
           "showland": true,
           "subunitcolor": "white"
          },
          "hoverlabel": {
           "align": "left"
          },
          "hovermode": "closest",
          "mapbox": {
           "style": "light"
          },
          "paper_bgcolor": "white",
          "plot_bgcolor": "#E5ECF6",
          "polar": {
           "angularaxis": {
            "gridcolor": "white",
            "linecolor": "white",
            "ticks": ""
           },
           "bgcolor": "#E5ECF6",
           "radialaxis": {
            "gridcolor": "white",
            "linecolor": "white",
            "ticks": ""
           }
          },
          "scene": {
           "xaxis": {
            "backgroundcolor": "#E5ECF6",
            "gridcolor": "white",
            "gridwidth": 2,
            "linecolor": "white",
            "showbackground": true,
            "ticks": "",
            "zerolinecolor": "white"
           },
           "yaxis": {
            "backgroundcolor": "#E5ECF6",
            "gridcolor": "white",
            "gridwidth": 2,
            "linecolor": "white",
            "showbackground": true,
            "ticks": "",
            "zerolinecolor": "white"
           },
           "zaxis": {
            "backgroundcolor": "#E5ECF6",
            "gridcolor": "white",
            "gridwidth": 2,
            "linecolor": "white",
            "showbackground": true,
            "ticks": "",
            "zerolinecolor": "white"
           }
          },
          "shapedefaults": {
           "line": {
            "color": "#2a3f5f"
           }
          },
          "ternary": {
           "aaxis": {
            "gridcolor": "white",
            "linecolor": "white",
            "ticks": ""
           },
           "baxis": {
            "gridcolor": "white",
            "linecolor": "white",
            "ticks": ""
           },
           "bgcolor": "#E5ECF6",
           "caxis": {
            "gridcolor": "white",
            "linecolor": "white",
            "ticks": ""
           }
          },
          "title": {
           "x": 0.05
          },
          "xaxis": {
           "automargin": true,
           "gridcolor": "white",
           "linecolor": "white",
           "ticks": "",
           "title": {
            "standoff": 15
           },
           "zerolinecolor": "white",
           "zerolinewidth": 2
          },
          "yaxis": {
           "automargin": true,
           "gridcolor": "white",
           "linecolor": "white",
           "ticks": "",
           "title": {
            "standoff": 15
           },
           "zerolinecolor": "white",
           "zerolinewidth": 2
          }
         }
        }
       }
      },
      "text/html": [
       "<div>                            <div id=\"c4deb870-5918-402f-86b5-a18869871a46\" class=\"plotly-graph-div\" style=\"height:525px; width:100%;\"></div>            <script type=\"text/javascript\">                require([\"plotly\"], function(Plotly) {                    window.PLOTLYENV=window.PLOTLYENV || {};                                    if (document.getElementById(\"c4deb870-5918-402f-86b5-a18869871a46\")) {                    Plotly.newPlot(                        \"c4deb870-5918-402f-86b5-a18869871a46\",                        [{\"marker\":{\"size\":1},\"name\":\"0\",\"x\":[-0.04086370766162872,-0.010863706469535828,-0.010863706469535828,-0.010863706469535828,0.01913629285991192,0.01913629285991192,-0.04086370766162872,-0.04086370766162872,-0.010863706469535828,0.01913629285991192,0.01913629285991192,-0.010863706469535828,-0.04086370766162872,-0.010863706469535828,-0.010863706469535828],\"y\":[-0.02272973395884037,-0.02272973395884037,-0.015229733660817146,-0.02272973395884037,-0.02272973395884037,-0.06772973388433456,-0.06772973388433456,-0.02272973395884037,-0.04522973299026489,-0.02272973395884037,-0.06772973388433456,-0.04522973299026489,-0.06772973388433456,-0.04522973299026489,-0.04522973299026489],\"z\":[-0.9376537203788757,-0.9376537203788757,-0.9376537203788757,-0.9376537203788757,-0.9376537203788757,-0.9376537203788757,-0.9376537203788757,-0.9376537203788757,-0.9976537227630615,-0.9376537203788757,-0.9376537203788757,-0.9976537227630615,-0.9376537203788757,-0.9976537227630615,-0.9076537489891052],\"type\":\"scatter3d\",\"scene\":\"scene\",\"line\":{\"color\":\"#ff0000\"}},{\"marker\":{\"size\":1},\"name\":\"1\",\"x\":[-0.4266356825828552,-0.4260188043117523,-0.4193670451641083,-0.4260188043117523,-0.4254019558429718,-0.46531257033348083,-0.46654629707336426,-0.4266356825828552,-0.47366398572921753,-0.4254019558429718,-0.46531257033348083,-0.47366398572921753,-0.46654629707336426,-0.47366398572921753,-0.4321292042732239],\"y\":[0.5256520509719849,0.5002360343933105,0.5021902322769165,0.5002360343933105,0.474820077419281,0.46309494972229004,0.5139268636703491,0.5256520509719849,0.5221530795097351,0.474820077419281,0.46309494972229004,0.5221530795097351,0.5139268636703491,0.5221530795097351,0.48048368096351624],\"z\":[-0.6756032705307007,-0.6915295720100403,-0.6943905353546143,-0.6915295720100403,-0.7074558734893799,-0.6902901530265808,-0.6584375500679016,-0.6756032705307007,-0.7283511757850647,-0.7074558734893799,-0.6902901530265808,-0.7283511757850647,-0.6584375500679016,-0.7283511757850647,-0.6602444648742676],\"type\":\"scatter3d\",\"scene\":\"scene\",\"line\":{\"color\":\"#84ff00\"}},{\"marker\":{\"size\":1},\"name\":\"2\",\"x\":[0.6416800022125244,0.6293920874595642,0.6250002384185791,0.6293920874595642,0.617104172706604,0.6434553265571594,0.6680312156677246,0.6416800022125244,0.6845386624336243,0.617104172706604,0.6434553265571594,0.6845386624336243,0.6680312156677246,0.6845386624336243,0.6215821504592896],\"y\":[0.5121205449104309,0.5330363512039185,0.5352382659912109,0.5330363512039185,0.553952157497406,0.5407407283782959,0.498909056186676,0.5121205449104309,0.5656710863113403,0.553952157497406,0.5407407283782959,0.5656710863113403,0.498909056186676,0.5656710863113403,0.5068103671073914],\"z\":[-0.3087918758392334,-0.2911415100097656,-0.2968083620071411,-0.2911415100097656,-0.27349117398262024,-0.2394901067018509,-0.27479079365730286,-0.3087918758392334,-0.29142165184020996,-0.27349117398262024,-0.2394901067018509,-0.29142165184020996,-0.27479079365730286,-0.29142165184020996,-0.26550066471099854],\"type\":\"scatter3d\",\"scene\":\"scene\",\"line\":{\"color\":\"#00fff6\"}},{\"marker\":{\"size\":1},\"name\":\"3\",\"x\":[0.023016616702079773,-0.005924336612224579,-0.007861139252781868,-0.005924336612224579,-0.03486528992652893,-0.023244470357894897,0.034637436270713806,0.023016616702079773,0.002985578030347824,-0.03486528992652893,-0.023244470357894897,0.002985578030347824,0.034637436270713806,0.002985578030347824,-0.0016636778600513935],\"y\":[0.9021735787391663,0.9044934511184692,0.9038165807723999,0.9044934511184692,0.9068132638931274,0.9108744859695435,0.9062348008155823,0.9021735787391663,0.9660987854003906,0.9068132638931274,0.9108744859695435,0.9660987854003906,0.9062348008155823,0.9660987854003906,0.8767366409301758],\"z\":[-0.19411702454090118,-0.1865645796060562,-0.19377849996089935,-0.1865645796060562,-0.17901213467121124,-0.1357286274433136,-0.15083350241184235,-0.19411702454090118,-0.17134475708007812,-0.17901213467121124,-0.1357286274433136,-0.17134475708007812,-0.15083350241184235,-0.17134475708007812,-0.16171185672283173],\"type\":\"scatter3d\",\"scene\":\"scene\",\"line\":{\"color\":\"#7200ff\"}}],                        {\"template\":{\"data\":{\"bar\":[{\"error_x\":{\"color\":\"#2a3f5f\"},\"error_y\":{\"color\":\"#2a3f5f\"},\"marker\":{\"line\":{\"color\":\"#E5ECF6\",\"width\":0.5},\"pattern\":{\"fillmode\":\"overlay\",\"size\":10,\"solidity\":0.2}},\"type\":\"bar\"}],\"barpolar\":[{\"marker\":{\"line\":{\"color\":\"#E5ECF6\",\"width\":0.5},\"pattern\":{\"fillmode\":\"overlay\",\"size\":10,\"solidity\":0.2}},\"type\":\"barpolar\"}],\"carpet\":[{\"aaxis\":{\"endlinecolor\":\"#2a3f5f\",\"gridcolor\":\"white\",\"linecolor\":\"white\",\"minorgridcolor\":\"white\",\"startlinecolor\":\"#2a3f5f\"},\"baxis\":{\"endlinecolor\":\"#2a3f5f\",\"gridcolor\":\"white\",\"linecolor\":\"white\",\"minorgridcolor\":\"white\",\"startlinecolor\":\"#2a3f5f\"},\"type\":\"carpet\"}],\"choropleth\":[{\"colorbar\":{\"outlinewidth\":0,\"ticks\":\"\"},\"type\":\"choropleth\"}],\"contour\":[{\"colorbar\":{\"outlinewidth\":0,\"ticks\":\"\"},\"colorscale\":[[0.0,\"#0d0887\"],[0.1111111111111111,\"#46039f\"],[0.2222222222222222,\"#7201a8\"],[0.3333333333333333,\"#9c179e\"],[0.4444444444444444,\"#bd3786\"],[0.5555555555555556,\"#d8576b\"],[0.6666666666666666,\"#ed7953\"],[0.7777777777777778,\"#fb9f3a\"],[0.8888888888888888,\"#fdca26\"],[1.0,\"#f0f921\"]],\"type\":\"contour\"}],\"contourcarpet\":[{\"colorbar\":{\"outlinewidth\":0,\"ticks\":\"\"},\"type\":\"contourcarpet\"}],\"heatmap\":[{\"colorbar\":{\"outlinewidth\":0,\"ticks\":\"\"},\"colorscale\":[[0.0,\"#0d0887\"],[0.1111111111111111,\"#46039f\"],[0.2222222222222222,\"#7201a8\"],[0.3333333333333333,\"#9c179e\"],[0.4444444444444444,\"#bd3786\"],[0.5555555555555556,\"#d8576b\"],[0.6666666666666666,\"#ed7953\"],[0.7777777777777778,\"#fb9f3a\"],[0.8888888888888888,\"#fdca26\"],[1.0,\"#f0f921\"]],\"type\":\"heatmap\"}],\"heatmapgl\":[{\"colorbar\":{\"outlinewidth\":0,\"ticks\":\"\"},\"colorscale\":[[0.0,\"#0d0887\"],[0.1111111111111111,\"#46039f\"],[0.2222222222222222,\"#7201a8\"],[0.3333333333333333,\"#9c179e\"],[0.4444444444444444,\"#bd3786\"],[0.5555555555555556,\"#d8576b\"],[0.6666666666666666,\"#ed7953\"],[0.7777777777777778,\"#fb9f3a\"],[0.8888888888888888,\"#fdca26\"],[1.0,\"#f0f921\"]],\"type\":\"heatmapgl\"}],\"histogram\":[{\"marker\":{\"pattern\":{\"fillmode\":\"overlay\",\"size\":10,\"solidity\":0.2}},\"type\":\"histogram\"}],\"histogram2d\":[{\"colorbar\":{\"outlinewidth\":0,\"ticks\":\"\"},\"colorscale\":[[0.0,\"#0d0887\"],[0.1111111111111111,\"#46039f\"],[0.2222222222222222,\"#7201a8\"],[0.3333333333333333,\"#9c179e\"],[0.4444444444444444,\"#bd3786\"],[0.5555555555555556,\"#d8576b\"],[0.6666666666666666,\"#ed7953\"],[0.7777777777777778,\"#fb9f3a\"],[0.8888888888888888,\"#fdca26\"],[1.0,\"#f0f921\"]],\"type\":\"histogram2d\"}],\"histogram2dcontour\":[{\"colorbar\":{\"outlinewidth\":0,\"ticks\":\"\"},\"colorscale\":[[0.0,\"#0d0887\"],[0.1111111111111111,\"#46039f\"],[0.2222222222222222,\"#7201a8\"],[0.3333333333333333,\"#9c179e\"],[0.4444444444444444,\"#bd3786\"],[0.5555555555555556,\"#d8576b\"],[0.6666666666666666,\"#ed7953\"],[0.7777777777777778,\"#fb9f3a\"],[0.8888888888888888,\"#fdca26\"],[1.0,\"#f0f921\"]],\"type\":\"histogram2dcontour\"}],\"mesh3d\":[{\"colorbar\":{\"outlinewidth\":0,\"ticks\":\"\"},\"type\":\"mesh3d\"}],\"parcoords\":[{\"line\":{\"colorbar\":{\"outlinewidth\":0,\"ticks\":\"\"}},\"type\":\"parcoords\"}],\"pie\":[{\"automargin\":true,\"type\":\"pie\"}],\"scatter\":[{\"marker\":{\"colorbar\":{\"outlinewidth\":0,\"ticks\":\"\"}},\"type\":\"scatter\"}],\"scatter3d\":[{\"line\":{\"colorbar\":{\"outlinewidth\":0,\"ticks\":\"\"}},\"marker\":{\"colorbar\":{\"outlinewidth\":0,\"ticks\":\"\"}},\"type\":\"scatter3d\"}],\"scattercarpet\":[{\"marker\":{\"colorbar\":{\"outlinewidth\":0,\"ticks\":\"\"}},\"type\":\"scattercarpet\"}],\"scattergeo\":[{\"marker\":{\"colorbar\":{\"outlinewidth\":0,\"ticks\":\"\"}},\"type\":\"scattergeo\"}],\"scattergl\":[{\"marker\":{\"colorbar\":{\"outlinewidth\":0,\"ticks\":\"\"}},\"type\":\"scattergl\"}],\"scattermapbox\":[{\"marker\":{\"colorbar\":{\"outlinewidth\":0,\"ticks\":\"\"}},\"type\":\"scattermapbox\"}],\"scatterpolar\":[{\"marker\":{\"colorbar\":{\"outlinewidth\":0,\"ticks\":\"\"}},\"type\":\"scatterpolar\"}],\"scatterpolargl\":[{\"marker\":{\"colorbar\":{\"outlinewidth\":0,\"ticks\":\"\"}},\"type\":\"scatterpolargl\"}],\"scatterternary\":[{\"marker\":{\"colorbar\":{\"outlinewidth\":0,\"ticks\":\"\"}},\"type\":\"scatterternary\"}],\"surface\":[{\"colorbar\":{\"outlinewidth\":0,\"ticks\":\"\"},\"colorscale\":[[0.0,\"#0d0887\"],[0.1111111111111111,\"#46039f\"],[0.2222222222222222,\"#7201a8\"],[0.3333333333333333,\"#9c179e\"],[0.4444444444444444,\"#bd3786\"],[0.5555555555555556,\"#d8576b\"],[0.6666666666666666,\"#ed7953\"],[0.7777777777777778,\"#fb9f3a\"],[0.8888888888888888,\"#fdca26\"],[1.0,\"#f0f921\"]],\"type\":\"surface\"}],\"table\":[{\"cells\":{\"fill\":{\"color\":\"#EBF0F8\"},\"line\":{\"color\":\"white\"}},\"header\":{\"fill\":{\"color\":\"#C8D4E3\"},\"line\":{\"color\":\"white\"}},\"type\":\"table\"}]},\"layout\":{\"annotationdefaults\":{\"arrowcolor\":\"#2a3f5f\",\"arrowhead\":0,\"arrowwidth\":1},\"autotypenumbers\":\"strict\",\"coloraxis\":{\"colorbar\":{\"outlinewidth\":0,\"ticks\":\"\"}},\"colorscale\":{\"diverging\":[[0,\"#8e0152\"],[0.1,\"#c51b7d\"],[0.2,\"#de77ae\"],[0.3,\"#f1b6da\"],[0.4,\"#fde0ef\"],[0.5,\"#f7f7f7\"],[0.6,\"#e6f5d0\"],[0.7,\"#b8e186\"],[0.8,\"#7fbc41\"],[0.9,\"#4d9221\"],[1,\"#276419\"]],\"sequential\":[[0.0,\"#0d0887\"],[0.1111111111111111,\"#46039f\"],[0.2222222222222222,\"#7201a8\"],[0.3333333333333333,\"#9c179e\"],[0.4444444444444444,\"#bd3786\"],[0.5555555555555556,\"#d8576b\"],[0.6666666666666666,\"#ed7953\"],[0.7777777777777778,\"#fb9f3a\"],[0.8888888888888888,\"#fdca26\"],[1.0,\"#f0f921\"]],\"sequentialminus\":[[0.0,\"#0d0887\"],[0.1111111111111111,\"#46039f\"],[0.2222222222222222,\"#7201a8\"],[0.3333333333333333,\"#9c179e\"],[0.4444444444444444,\"#bd3786\"],[0.5555555555555556,\"#d8576b\"],[0.6666666666666666,\"#ed7953\"],[0.7777777777777778,\"#fb9f3a\"],[0.8888888888888888,\"#fdca26\"],[1.0,\"#f0f921\"]]},\"colorway\":[\"#636efa\",\"#EF553B\",\"#00cc96\",\"#ab63fa\",\"#FFA15A\",\"#19d3f3\",\"#FF6692\",\"#B6E880\",\"#FF97FF\",\"#FECB52\"],\"font\":{\"color\":\"#2a3f5f\"},\"geo\":{\"bgcolor\":\"white\",\"lakecolor\":\"white\",\"landcolor\":\"#E5ECF6\",\"showlakes\":true,\"showland\":true,\"subunitcolor\":\"white\"},\"hoverlabel\":{\"align\":\"left\"},\"hovermode\":\"closest\",\"mapbox\":{\"style\":\"light\"},\"paper_bgcolor\":\"white\",\"plot_bgcolor\":\"#E5ECF6\",\"polar\":{\"angularaxis\":{\"gridcolor\":\"white\",\"linecolor\":\"white\",\"ticks\":\"\"},\"bgcolor\":\"#E5ECF6\",\"radialaxis\":{\"gridcolor\":\"white\",\"linecolor\":\"white\",\"ticks\":\"\"}},\"scene\":{\"xaxis\":{\"backgroundcolor\":\"#E5ECF6\",\"gridcolor\":\"white\",\"gridwidth\":2,\"linecolor\":\"white\",\"showbackground\":true,\"ticks\":\"\",\"zerolinecolor\":\"white\"},\"yaxis\":{\"backgroundcolor\":\"#E5ECF6\",\"gridcolor\":\"white\",\"gridwidth\":2,\"linecolor\":\"white\",\"showbackground\":true,\"ticks\":\"\",\"zerolinecolor\":\"white\"},\"zaxis\":{\"backgroundcolor\":\"#E5ECF6\",\"gridcolor\":\"white\",\"gridwidth\":2,\"linecolor\":\"white\",\"showbackground\":true,\"ticks\":\"\",\"zerolinecolor\":\"white\"}},\"shapedefaults\":{\"line\":{\"color\":\"#2a3f5f\"}},\"ternary\":{\"aaxis\":{\"gridcolor\":\"white\",\"linecolor\":\"white\",\"ticks\":\"\"},\"baxis\":{\"gridcolor\":\"white\",\"linecolor\":\"white\",\"ticks\":\"\"},\"bgcolor\":\"#E5ECF6\",\"caxis\":{\"gridcolor\":\"white\",\"linecolor\":\"white\",\"ticks\":\"\"}},\"title\":{\"x\":0.05},\"xaxis\":{\"automargin\":true,\"gridcolor\":\"white\",\"linecolor\":\"white\",\"ticks\":\"\",\"title\":{\"standoff\":15},\"zerolinecolor\":\"white\",\"zerolinewidth\":2},\"yaxis\":{\"automargin\":true,\"gridcolor\":\"white\",\"linecolor\":\"white\",\"ticks\":\"\",\"title\":{\"standoff\":15},\"zerolinecolor\":\"white\",\"zerolinewidth\":2}}},\"scene\":{\"domain\":{\"x\":[0.0,0.45],\"y\":[0.0,1.0]},\"xaxis\":{\"range\":[-0.5160682201385498,0.7159367203712463],\"showgrid\":false,\"zeroline\":false,\"showline\":false,\"ticks\":\"\",\"showticklabels\":false,\"backgroundcolor\":\"#fff\",\"showaxeslabels\":false},\"yaxis\":{\"range\":[-0.13022971153259277,1.0053640604019165],\"showgrid\":false,\"zeroline\":false,\"showline\":false,\"ticks\":\"\",\"showticklabels\":false,\"backgroundcolor\":\"#fff\",\"showaxeslabels\":false},\"zaxis\":{\"range\":[-1.0376536846160889,-0.0814402848482132],\"showgrid\":false,\"zeroline\":false,\"showline\":false,\"ticks\":\"\",\"showticklabels\":false,\"backgroundcolor\":\"#fff\",\"showaxeslabels\":false},\"camera\":{\"up\":{\"x\":0,\"y\":1,\"z\":0}},\"aspectmode\":\"data\"},\"scene2\":{\"domain\":{\"x\":[0.55,1.0],\"y\":[0.0,1.0]},\"aspectmode\":\"data\"},\"annotations\":[{\"font\":{\"size\":16},\"showarrow\":false,\"text\":\"Predicted Cameras\",\"x\":0.225,\"xanchor\":\"center\",\"xref\":\"paper\",\"y\":1.0,\"yanchor\":\"bottom\",\"yref\":\"paper\"}]},                        {\"responsive\": true}                    ).then(function(){\n",
       "                            \n",
       "var gd = document.getElementById('c4deb870-5918-402f-86b5-a18869871a46');\n",
       "var x = new MutationObserver(function (mutations, observer) {{\n",
       "        var display = window.getComputedStyle(gd).display;\n",
       "        if (!display || display === 'none') {{\n",
       "            console.log([gd, 'removed!']);\n",
       "            Plotly.purge(gd);\n",
       "            observer.disconnect();\n",
       "        }}\n",
       "}});\n",
       "\n",
       "// Listen for the removal of the full notebook cells\n",
       "var notebookContainer = gd.closest('#notebook-container');\n",
       "if (notebookContainer) {{\n",
       "    x.observe(notebookContainer, {childList: true});\n",
       "}}\n",
       "\n",
       "// Listen for the clearing of the current output cell\n",
       "var outputEl = gd.closest('.output');\n",
       "if (outputEl) {{\n",
       "    x.observe(outputEl, {childList: true});\n",
       "}}\n",
       "\n",
       "                        })                };                });            </script>        </div>"
      ]
     },
     "metadata": {},
     "output_type": "display_data"
    }
   ],
   "source": [
    "# Construct cameras and visualize scene for quick solution\n",
    "cameras_pred = FoVPerspectiveCameras(R=R_pred, T=T_pred)\n",
    "scenes = {\"Predicted Cameras\": {}}\n",
    "\n",
    "for i in range(num_frames):\n",
    "    scenes[\"Predicted Cameras\"][i] = FoVPerspectiveCameras(\n",
    "        R=R_pred[i, None], T=T_pred[i, None]\n",
    "    )\n",
    "\n",
    "fig = plot_scene(\n",
    "    scenes,\n",
    "    camera_scale=0.03,\n",
    "    ncols=2,\n",
    ")\n",
    "fig.update_scenes(aspectmode=\"data\")\n",
    "\n",
    "for i in range(num_frames):\n",
    "    fig.data[i].line.color = matplotlib.colors.to_hex(cmap(i / (num_frames)))\n",
    "\n",
    "fig"
   ]
  },
  {
   "cell_type": "code",
   "execution_count": 28,
   "id": "d9cda720",
   "metadata": {},
   "outputs": [
    {
     "data": {
      "application/vnd.jupyter.widget-view+json": {
       "model_id": "bb513367c44c41e49249f50cd1ed18b5",
       "version_major": 2,
       "version_minor": 0
      },
      "text/plain": [
       "  0%|          | 0/50 [00:00<?, ?it/s]"
      ]
     },
     "metadata": {},
     "output_type": "display_data"
    }
   ],
   "source": [
    "# Search for optimal rotation via coordinate ascent\n",
    "_, hypothesis = evaluate_coordinate_ascent(\n",
    "    model=model,\n",
    "    images=batched_images,\n",
    "    use_all_features=True,\n",
    "    crop_params=batched_crop_params,\n",
    ")\n",
    "R_pred = np.stack(hypothesis)"
   ]
  },
  {
   "cell_type": "code",
   "execution_count": 29,
   "id": "2b8bc95a",
   "metadata": {},
   "outputs": [
    {
     "data": {
      "application/vnd.plotly.v1+json": {
       "config": {
        "plotlyServerURL": "https://plot.ly"
       },
       "data": [
        {
         "line": {
          "color": "#ff0000"
         },
         "marker": {
          "size": 1
         },
         "name": "0",
         "scene": "scene",
         "type": "scatter3d",
         "x": [
          -0.060883402824401855,
          -0.030900796875357628,
          -0.030698182061314583,
          -0.030900796875357628,
          -0.0009181909263134003,
          -0.0021338779479265213,
          -0.062099091708660126,
          -0.060883402824401855,
          -0.032751914113759995,
          -0.0009181909263134003,
          -0.0021338779479265213,
          -0.032751914113759995,
          -0.062099091708660126,
          -0.032751914113759995,
          -0.030887003988027573
         ],
         "y": [
          -0.0318342000246048,
          -0.032651565968990326,
          -0.02515479363501072,
          -0.032651565968990326,
          -0.033468928188085556,
          -0.078449547290802,
          -0.07681481540203094,
          -0.0318342000246048,
          -0.05579633265733719,
          -0.033468928188085556,
          -0.078449547290802,
          -0.05579633265733719,
          -0.07681481540203094,
          -0.05579633265733719,
          -0.054814644157886505
         ],
         "z": [
          -0.9363016486167908,
          -0.9369141459465027,
          -0.9370001554489136,
          -0.9369141459465027,
          -0.9375267028808594,
          -0.9370107054710388,
          -0.9357856512069702,
          -0.9363016486167908,
          -0.9966397285461426,
          -0.9375267028808594,
          -0.9370107054710388,
          -0.9966397285461426,
          -0.9357856512069702,
          -0.9966397285461426,
          -0.9066644310951233
         ]
        },
        {
         "line": {
          "color": "#84ff00"
         },
         "marker": {
          "size": 1
         },
         "name": "1",
         "scene": "scene",
         "type": "scatter3d",
         "x": [
          -0.25539132952690125,
          -0.25362876057624817,
          -0.24643990397453308,
          -0.25362876057624817,
          -0.2518661916255951,
          -0.2949993312358856,
          -0.2985244691371918,
          -0.25539132952690125,
          -0.29193079471588135,
          -0.2518661916255951,
          -0.2949993312358856,
          -0.29193079471588135,
          -0.2985244691371918,
          -0.29193079471588135,
          -0.26682761311531067
         ],
         "y": [
          0.5666617751121521,
          0.5415229201316833,
          0.5430169701576233,
          0.5415229201316833,
          0.5163840651512146,
          0.5074195861816406,
          0.5576973557472229,
          0.5666617751121521,
          0.5675248503684998,
          0.5163840651512146,
          0.5074195861816406,
          0.5675248503684998,
          0.5576973557472229,
          0.5675248503684998,
          0.5217986106872559
         ],
         "z": [
          -0.7269372344017029,
          -0.7432138919830322,
          -0.7447429895401001,
          -0.7432138919830322,
          -0.7594906091690063,
          -0.7503160834312439,
          -0.7177627086639404,
          -0.7269372344017029,
          -0.7875208258628845,
          -0.7594906091690063,
          -0.7503160834312439,
          -0.7875208258628845,
          -0.7177627086639404,
          -0.7875208258628845,
          -0.7141795754432678
         ]
        },
        {
         "line": {
          "color": "#00fff6"
         },
         "marker": {
          "size": 1
         },
         "name": "2",
         "scene": "scene",
         "type": "scatter3d",
         "x": [
          0.641065776348114,
          0.6278610229492188,
          0.6236023902893066,
          0.6278610229492188,
          0.6146562099456787,
          0.6402080059051514,
          0.6666175127029419,
          0.641065776348114,
          0.6823722124099731,
          0.6146562099456787,
          0.6402080059051514,
          0.6823722124099731,
          0.6666175127029419,
          0.6823722124099731,
          0.6197692155838013
         ],
         "y": [
          0.5247393846511841,
          0.545378565788269,
          0.5475127696990967,
          0.545378565788269,
          0.566017746925354,
          0.5532127618789673,
          0.5119343996047974,
          0.5247393846511841,
          0.5790335536003113,
          0.566017746925354,
          0.5532127618789673,
          0.5790335536003113,
          0.5119343996047974,
          0.5790335536003113,
          0.5189473628997803
         ],
         "z": [
          -0.28819483518600464,
          -0.2708841860294342,
          -0.2766772210597992,
          -0.2708841860294342,
          -0.2535735070705414,
          -0.21881520748138428,
          -0.25343653559684753,
          -0.28819483518600464,
          -0.2694285809993744,
          -0.2535735070705414,
          -0.21881520748138428,
          -0.2694285809993744,
          -0.25343653559684753,
          -0.2694285809993744,
          -0.24554325640201569
         ]
        },
        {
         "line": {
          "color": "#7200ff"
         },
         "marker": {
          "size": 1
         },
         "name": "3",
         "scene": "scene",
         "type": "scatter3d",
         "x": [
          0.023016616702079773,
          -0.005924336612224579,
          -0.007861139252781868,
          -0.005924336612224579,
          -0.03486528992652893,
          -0.023244470357894897,
          0.034637436270713806,
          0.023016616702079773,
          0.002985578030347824,
          -0.03486528992652893,
          -0.023244470357894897,
          0.002985578030347824,
          0.034637436270713806,
          0.002985578030347824,
          -0.0016636778600513935
         ],
         "y": [
          0.9021735787391663,
          0.9044934511184692,
          0.9038165807723999,
          0.9044934511184692,
          0.9068132638931274,
          0.9108744859695435,
          0.9062348008155823,
          0.9021735787391663,
          0.9660987854003906,
          0.9068132638931274,
          0.9108744859695435,
          0.9660987854003906,
          0.9062348008155823,
          0.9660987854003906,
          0.8767366409301758
         ],
         "z": [
          -0.19411702454090118,
          -0.1865645796060562,
          -0.19377849996089935,
          -0.1865645796060562,
          -0.17901213467121124,
          -0.1357286274433136,
          -0.15083350241184235,
          -0.19411702454090118,
          -0.17134475708007812,
          -0.17901213467121124,
          -0.1357286274433136,
          -0.17134475708007812,
          -0.15083350241184235,
          -0.17134475708007812,
          -0.16171185672283173
         ]
        }
       ],
       "layout": {
        "annotations": [
         {
          "font": {
           "size": 16
          },
          "showarrow": false,
          "text": "Predicted Cameras",
          "x": 0.225,
          "xanchor": "center",
          "xref": "paper",
          "y": 1,
          "yanchor": "bottom",
          "yref": "paper"
         }
        ],
        "scene": {
         "aspectmode": "data",
         "camera": {
          "up": {
           "x": 0,
           "y": 1,
           "z": 0
          }
         },
         "domain": {
          "x": [
           0,
           0.45
          ],
          "y": [
           0,
           1
          ]
         },
         "xaxis": {
          "backgroundcolor": "#fff",
          "range": [
           -0.34653323888778687,
           0.7141333222389221
          ],
          "showaxeslabels": false,
          "showgrid": false,
          "showline": false,
          "showticklabels": false,
          "ticks": "",
          "zeroline": false
         },
         "yaxis": {
          "backgroundcolor": "#fff",
          "range": [
           -0.14022839069366455,
           1.0053640604019165
          ],
          "showaxeslabels": false,
          "showgrid": false,
          "showline": false,
          "showticklabels": false,
          "ticks": "",
          "zeroline": false
         },
         "zaxis": {
          "backgroundcolor": "#fff",
          "range": [
           -1.0366859436035156,
           -0.0814402848482132
          ],
          "showaxeslabels": false,
          "showgrid": false,
          "showline": false,
          "showticklabels": false,
          "ticks": "",
          "zeroline": false
         }
        },
        "scene2": {
         "aspectmode": "data",
         "domain": {
          "x": [
           0.55,
           1
          ],
          "y": [
           0,
           1
          ]
         }
        },
        "template": {
         "data": {
          "bar": [
           {
            "error_x": {
             "color": "#2a3f5f"
            },
            "error_y": {
             "color": "#2a3f5f"
            },
            "marker": {
             "line": {
              "color": "#E5ECF6",
              "width": 0.5
             },
             "pattern": {
              "fillmode": "overlay",
              "size": 10,
              "solidity": 0.2
             }
            },
            "type": "bar"
           }
          ],
          "barpolar": [
           {
            "marker": {
             "line": {
              "color": "#E5ECF6",
              "width": 0.5
             },
             "pattern": {
              "fillmode": "overlay",
              "size": 10,
              "solidity": 0.2
             }
            },
            "type": "barpolar"
           }
          ],
          "carpet": [
           {
            "aaxis": {
             "endlinecolor": "#2a3f5f",
             "gridcolor": "white",
             "linecolor": "white",
             "minorgridcolor": "white",
             "startlinecolor": "#2a3f5f"
            },
            "baxis": {
             "endlinecolor": "#2a3f5f",
             "gridcolor": "white",
             "linecolor": "white",
             "minorgridcolor": "white",
             "startlinecolor": "#2a3f5f"
            },
            "type": "carpet"
           }
          ],
          "choropleth": [
           {
            "colorbar": {
             "outlinewidth": 0,
             "ticks": ""
            },
            "type": "choropleth"
           }
          ],
          "contour": [
           {
            "colorbar": {
             "outlinewidth": 0,
             "ticks": ""
            },
            "colorscale": [
             [
              0,
              "#0d0887"
             ],
             [
              0.1111111111111111,
              "#46039f"
             ],
             [
              0.2222222222222222,
              "#7201a8"
             ],
             [
              0.3333333333333333,
              "#9c179e"
             ],
             [
              0.4444444444444444,
              "#bd3786"
             ],
             [
              0.5555555555555556,
              "#d8576b"
             ],
             [
              0.6666666666666666,
              "#ed7953"
             ],
             [
              0.7777777777777778,
              "#fb9f3a"
             ],
             [
              0.8888888888888888,
              "#fdca26"
             ],
             [
              1,
              "#f0f921"
             ]
            ],
            "type": "contour"
           }
          ],
          "contourcarpet": [
           {
            "colorbar": {
             "outlinewidth": 0,
             "ticks": ""
            },
            "type": "contourcarpet"
           }
          ],
          "heatmap": [
           {
            "colorbar": {
             "outlinewidth": 0,
             "ticks": ""
            },
            "colorscale": [
             [
              0,
              "#0d0887"
             ],
             [
              0.1111111111111111,
              "#46039f"
             ],
             [
              0.2222222222222222,
              "#7201a8"
             ],
             [
              0.3333333333333333,
              "#9c179e"
             ],
             [
              0.4444444444444444,
              "#bd3786"
             ],
             [
              0.5555555555555556,
              "#d8576b"
             ],
             [
              0.6666666666666666,
              "#ed7953"
             ],
             [
              0.7777777777777778,
              "#fb9f3a"
             ],
             [
              0.8888888888888888,
              "#fdca26"
             ],
             [
              1,
              "#f0f921"
             ]
            ],
            "type": "heatmap"
           }
          ],
          "heatmapgl": [
           {
            "colorbar": {
             "outlinewidth": 0,
             "ticks": ""
            },
            "colorscale": [
             [
              0,
              "#0d0887"
             ],
             [
              0.1111111111111111,
              "#46039f"
             ],
             [
              0.2222222222222222,
              "#7201a8"
             ],
             [
              0.3333333333333333,
              "#9c179e"
             ],
             [
              0.4444444444444444,
              "#bd3786"
             ],
             [
              0.5555555555555556,
              "#d8576b"
             ],
             [
              0.6666666666666666,
              "#ed7953"
             ],
             [
              0.7777777777777778,
              "#fb9f3a"
             ],
             [
              0.8888888888888888,
              "#fdca26"
             ],
             [
              1,
              "#f0f921"
             ]
            ],
            "type": "heatmapgl"
           }
          ],
          "histogram": [
           {
            "marker": {
             "pattern": {
              "fillmode": "overlay",
              "size": 10,
              "solidity": 0.2
             }
            },
            "type": "histogram"
           }
          ],
          "histogram2d": [
           {
            "colorbar": {
             "outlinewidth": 0,
             "ticks": ""
            },
            "colorscale": [
             [
              0,
              "#0d0887"
             ],
             [
              0.1111111111111111,
              "#46039f"
             ],
             [
              0.2222222222222222,
              "#7201a8"
             ],
             [
              0.3333333333333333,
              "#9c179e"
             ],
             [
              0.4444444444444444,
              "#bd3786"
             ],
             [
              0.5555555555555556,
              "#d8576b"
             ],
             [
              0.6666666666666666,
              "#ed7953"
             ],
             [
              0.7777777777777778,
              "#fb9f3a"
             ],
             [
              0.8888888888888888,
              "#fdca26"
             ],
             [
              1,
              "#f0f921"
             ]
            ],
            "type": "histogram2d"
           }
          ],
          "histogram2dcontour": [
           {
            "colorbar": {
             "outlinewidth": 0,
             "ticks": ""
            },
            "colorscale": [
             [
              0,
              "#0d0887"
             ],
             [
              0.1111111111111111,
              "#46039f"
             ],
             [
              0.2222222222222222,
              "#7201a8"
             ],
             [
              0.3333333333333333,
              "#9c179e"
             ],
             [
              0.4444444444444444,
              "#bd3786"
             ],
             [
              0.5555555555555556,
              "#d8576b"
             ],
             [
              0.6666666666666666,
              "#ed7953"
             ],
             [
              0.7777777777777778,
              "#fb9f3a"
             ],
             [
              0.8888888888888888,
              "#fdca26"
             ],
             [
              1,
              "#f0f921"
             ]
            ],
            "type": "histogram2dcontour"
           }
          ],
          "mesh3d": [
           {
            "colorbar": {
             "outlinewidth": 0,
             "ticks": ""
            },
            "type": "mesh3d"
           }
          ],
          "parcoords": [
           {
            "line": {
             "colorbar": {
              "outlinewidth": 0,
              "ticks": ""
             }
            },
            "type": "parcoords"
           }
          ],
          "pie": [
           {
            "automargin": true,
            "type": "pie"
           }
          ],
          "scatter": [
           {
            "marker": {
             "colorbar": {
              "outlinewidth": 0,
              "ticks": ""
             }
            },
            "type": "scatter"
           }
          ],
          "scatter3d": [
           {
            "line": {
             "colorbar": {
              "outlinewidth": 0,
              "ticks": ""
             }
            },
            "marker": {
             "colorbar": {
              "outlinewidth": 0,
              "ticks": ""
             }
            },
            "type": "scatter3d"
           }
          ],
          "scattercarpet": [
           {
            "marker": {
             "colorbar": {
              "outlinewidth": 0,
              "ticks": ""
             }
            },
            "type": "scattercarpet"
           }
          ],
          "scattergeo": [
           {
            "marker": {
             "colorbar": {
              "outlinewidth": 0,
              "ticks": ""
             }
            },
            "type": "scattergeo"
           }
          ],
          "scattergl": [
           {
            "marker": {
             "colorbar": {
              "outlinewidth": 0,
              "ticks": ""
             }
            },
            "type": "scattergl"
           }
          ],
          "scattermapbox": [
           {
            "marker": {
             "colorbar": {
              "outlinewidth": 0,
              "ticks": ""
             }
            },
            "type": "scattermapbox"
           }
          ],
          "scatterpolar": [
           {
            "marker": {
             "colorbar": {
              "outlinewidth": 0,
              "ticks": ""
             }
            },
            "type": "scatterpolar"
           }
          ],
          "scatterpolargl": [
           {
            "marker": {
             "colorbar": {
              "outlinewidth": 0,
              "ticks": ""
             }
            },
            "type": "scatterpolargl"
           }
          ],
          "scatterternary": [
           {
            "marker": {
             "colorbar": {
              "outlinewidth": 0,
              "ticks": ""
             }
            },
            "type": "scatterternary"
           }
          ],
          "surface": [
           {
            "colorbar": {
             "outlinewidth": 0,
             "ticks": ""
            },
            "colorscale": [
             [
              0,
              "#0d0887"
             ],
             [
              0.1111111111111111,
              "#46039f"
             ],
             [
              0.2222222222222222,
              "#7201a8"
             ],
             [
              0.3333333333333333,
              "#9c179e"
             ],
             [
              0.4444444444444444,
              "#bd3786"
             ],
             [
              0.5555555555555556,
              "#d8576b"
             ],
             [
              0.6666666666666666,
              "#ed7953"
             ],
             [
              0.7777777777777778,
              "#fb9f3a"
             ],
             [
              0.8888888888888888,
              "#fdca26"
             ],
             [
              1,
              "#f0f921"
             ]
            ],
            "type": "surface"
           }
          ],
          "table": [
           {
            "cells": {
             "fill": {
              "color": "#EBF0F8"
             },
             "line": {
              "color": "white"
             }
            },
            "header": {
             "fill": {
              "color": "#C8D4E3"
             },
             "line": {
              "color": "white"
             }
            },
            "type": "table"
           }
          ]
         },
         "layout": {
          "annotationdefaults": {
           "arrowcolor": "#2a3f5f",
           "arrowhead": 0,
           "arrowwidth": 1
          },
          "autotypenumbers": "strict",
          "coloraxis": {
           "colorbar": {
            "outlinewidth": 0,
            "ticks": ""
           }
          },
          "colorscale": {
           "diverging": [
            [
             0,
             "#8e0152"
            ],
            [
             0.1,
             "#c51b7d"
            ],
            [
             0.2,
             "#de77ae"
            ],
            [
             0.3,
             "#f1b6da"
            ],
            [
             0.4,
             "#fde0ef"
            ],
            [
             0.5,
             "#f7f7f7"
            ],
            [
             0.6,
             "#e6f5d0"
            ],
            [
             0.7,
             "#b8e186"
            ],
            [
             0.8,
             "#7fbc41"
            ],
            [
             0.9,
             "#4d9221"
            ],
            [
             1,
             "#276419"
            ]
           ],
           "sequential": [
            [
             0,
             "#0d0887"
            ],
            [
             0.1111111111111111,
             "#46039f"
            ],
            [
             0.2222222222222222,
             "#7201a8"
            ],
            [
             0.3333333333333333,
             "#9c179e"
            ],
            [
             0.4444444444444444,
             "#bd3786"
            ],
            [
             0.5555555555555556,
             "#d8576b"
            ],
            [
             0.6666666666666666,
             "#ed7953"
            ],
            [
             0.7777777777777778,
             "#fb9f3a"
            ],
            [
             0.8888888888888888,
             "#fdca26"
            ],
            [
             1,
             "#f0f921"
            ]
           ],
           "sequentialminus": [
            [
             0,
             "#0d0887"
            ],
            [
             0.1111111111111111,
             "#46039f"
            ],
            [
             0.2222222222222222,
             "#7201a8"
            ],
            [
             0.3333333333333333,
             "#9c179e"
            ],
            [
             0.4444444444444444,
             "#bd3786"
            ],
            [
             0.5555555555555556,
             "#d8576b"
            ],
            [
             0.6666666666666666,
             "#ed7953"
            ],
            [
             0.7777777777777778,
             "#fb9f3a"
            ],
            [
             0.8888888888888888,
             "#fdca26"
            ],
            [
             1,
             "#f0f921"
            ]
           ]
          },
          "colorway": [
           "#636efa",
           "#EF553B",
           "#00cc96",
           "#ab63fa",
           "#FFA15A",
           "#19d3f3",
           "#FF6692",
           "#B6E880",
           "#FF97FF",
           "#FECB52"
          ],
          "font": {
           "color": "#2a3f5f"
          },
          "geo": {
           "bgcolor": "white",
           "lakecolor": "white",
           "landcolor": "#E5ECF6",
           "showlakes": true,
           "showland": true,
           "subunitcolor": "white"
          },
          "hoverlabel": {
           "align": "left"
          },
          "hovermode": "closest",
          "mapbox": {
           "style": "light"
          },
          "paper_bgcolor": "white",
          "plot_bgcolor": "#E5ECF6",
          "polar": {
           "angularaxis": {
            "gridcolor": "white",
            "linecolor": "white",
            "ticks": ""
           },
           "bgcolor": "#E5ECF6",
           "radialaxis": {
            "gridcolor": "white",
            "linecolor": "white",
            "ticks": ""
           }
          },
          "scene": {
           "xaxis": {
            "backgroundcolor": "#E5ECF6",
            "gridcolor": "white",
            "gridwidth": 2,
            "linecolor": "white",
            "showbackground": true,
            "ticks": "",
            "zerolinecolor": "white"
           },
           "yaxis": {
            "backgroundcolor": "#E5ECF6",
            "gridcolor": "white",
            "gridwidth": 2,
            "linecolor": "white",
            "showbackground": true,
            "ticks": "",
            "zerolinecolor": "white"
           },
           "zaxis": {
            "backgroundcolor": "#E5ECF6",
            "gridcolor": "white",
            "gridwidth": 2,
            "linecolor": "white",
            "showbackground": true,
            "ticks": "",
            "zerolinecolor": "white"
           }
          },
          "shapedefaults": {
           "line": {
            "color": "#2a3f5f"
           }
          },
          "ternary": {
           "aaxis": {
            "gridcolor": "white",
            "linecolor": "white",
            "ticks": ""
           },
           "baxis": {
            "gridcolor": "white",
            "linecolor": "white",
            "ticks": ""
           },
           "bgcolor": "#E5ECF6",
           "caxis": {
            "gridcolor": "white",
            "linecolor": "white",
            "ticks": ""
           }
          },
          "title": {
           "x": 0.05
          },
          "xaxis": {
           "automargin": true,
           "gridcolor": "white",
           "linecolor": "white",
           "ticks": "",
           "title": {
            "standoff": 15
           },
           "zerolinecolor": "white",
           "zerolinewidth": 2
          },
          "yaxis": {
           "automargin": true,
           "gridcolor": "white",
           "linecolor": "white",
           "ticks": "",
           "title": {
            "standoff": 15
           },
           "zerolinecolor": "white",
           "zerolinewidth": 2
          }
         }
        }
       }
      },
      "text/html": [
       "<div>                            <div id=\"e53ba807-4ce1-44c8-8e19-38e8dbc8f0a3\" class=\"plotly-graph-div\" style=\"height:525px; width:100%;\"></div>            <script type=\"text/javascript\">                require([\"plotly\"], function(Plotly) {                    window.PLOTLYENV=window.PLOTLYENV || {};                                    if (document.getElementById(\"e53ba807-4ce1-44c8-8e19-38e8dbc8f0a3\")) {                    Plotly.newPlot(                        \"e53ba807-4ce1-44c8-8e19-38e8dbc8f0a3\",                        [{\"marker\":{\"size\":1},\"name\":\"0\",\"x\":[-0.060883402824401855,-0.030900796875357628,-0.030698182061314583,-0.030900796875357628,-0.0009181909263134003,-0.0021338779479265213,-0.062099091708660126,-0.060883402824401855,-0.032751914113759995,-0.0009181909263134003,-0.0021338779479265213,-0.032751914113759995,-0.062099091708660126,-0.032751914113759995,-0.030887003988027573],\"y\":[-0.0318342000246048,-0.032651565968990326,-0.02515479363501072,-0.032651565968990326,-0.033468928188085556,-0.078449547290802,-0.07681481540203094,-0.0318342000246048,-0.05579633265733719,-0.033468928188085556,-0.078449547290802,-0.05579633265733719,-0.07681481540203094,-0.05579633265733719,-0.054814644157886505],\"z\":[-0.9363016486167908,-0.9369141459465027,-0.9370001554489136,-0.9369141459465027,-0.9375267028808594,-0.9370107054710388,-0.9357856512069702,-0.9363016486167908,-0.9966397285461426,-0.9375267028808594,-0.9370107054710388,-0.9966397285461426,-0.9357856512069702,-0.9966397285461426,-0.9066644310951233],\"type\":\"scatter3d\",\"scene\":\"scene\",\"line\":{\"color\":\"#ff0000\"}},{\"marker\":{\"size\":1},\"name\":\"1\",\"x\":[-0.25539132952690125,-0.25362876057624817,-0.24643990397453308,-0.25362876057624817,-0.2518661916255951,-0.2949993312358856,-0.2985244691371918,-0.25539132952690125,-0.29193079471588135,-0.2518661916255951,-0.2949993312358856,-0.29193079471588135,-0.2985244691371918,-0.29193079471588135,-0.26682761311531067],\"y\":[0.5666617751121521,0.5415229201316833,0.5430169701576233,0.5415229201316833,0.5163840651512146,0.5074195861816406,0.5576973557472229,0.5666617751121521,0.5675248503684998,0.5163840651512146,0.5074195861816406,0.5675248503684998,0.5576973557472229,0.5675248503684998,0.5217986106872559],\"z\":[-0.7269372344017029,-0.7432138919830322,-0.7447429895401001,-0.7432138919830322,-0.7594906091690063,-0.7503160834312439,-0.7177627086639404,-0.7269372344017029,-0.7875208258628845,-0.7594906091690063,-0.7503160834312439,-0.7875208258628845,-0.7177627086639404,-0.7875208258628845,-0.7141795754432678],\"type\":\"scatter3d\",\"scene\":\"scene\",\"line\":{\"color\":\"#84ff00\"}},{\"marker\":{\"size\":1},\"name\":\"2\",\"x\":[0.641065776348114,0.6278610229492188,0.6236023902893066,0.6278610229492188,0.6146562099456787,0.6402080059051514,0.6666175127029419,0.641065776348114,0.6823722124099731,0.6146562099456787,0.6402080059051514,0.6823722124099731,0.6666175127029419,0.6823722124099731,0.6197692155838013],\"y\":[0.5247393846511841,0.545378565788269,0.5475127696990967,0.545378565788269,0.566017746925354,0.5532127618789673,0.5119343996047974,0.5247393846511841,0.5790335536003113,0.566017746925354,0.5532127618789673,0.5790335536003113,0.5119343996047974,0.5790335536003113,0.5189473628997803],\"z\":[-0.28819483518600464,-0.2708841860294342,-0.2766772210597992,-0.2708841860294342,-0.2535735070705414,-0.21881520748138428,-0.25343653559684753,-0.28819483518600464,-0.2694285809993744,-0.2535735070705414,-0.21881520748138428,-0.2694285809993744,-0.25343653559684753,-0.2694285809993744,-0.24554325640201569],\"type\":\"scatter3d\",\"scene\":\"scene\",\"line\":{\"color\":\"#00fff6\"}},{\"marker\":{\"size\":1},\"name\":\"3\",\"x\":[0.023016616702079773,-0.005924336612224579,-0.007861139252781868,-0.005924336612224579,-0.03486528992652893,-0.023244470357894897,0.034637436270713806,0.023016616702079773,0.002985578030347824,-0.03486528992652893,-0.023244470357894897,0.002985578030347824,0.034637436270713806,0.002985578030347824,-0.0016636778600513935],\"y\":[0.9021735787391663,0.9044934511184692,0.9038165807723999,0.9044934511184692,0.9068132638931274,0.9108744859695435,0.9062348008155823,0.9021735787391663,0.9660987854003906,0.9068132638931274,0.9108744859695435,0.9660987854003906,0.9062348008155823,0.9660987854003906,0.8767366409301758],\"z\":[-0.19411702454090118,-0.1865645796060562,-0.19377849996089935,-0.1865645796060562,-0.17901213467121124,-0.1357286274433136,-0.15083350241184235,-0.19411702454090118,-0.17134475708007812,-0.17901213467121124,-0.1357286274433136,-0.17134475708007812,-0.15083350241184235,-0.17134475708007812,-0.16171185672283173],\"type\":\"scatter3d\",\"scene\":\"scene\",\"line\":{\"color\":\"#7200ff\"}}],                        {\"template\":{\"data\":{\"bar\":[{\"error_x\":{\"color\":\"#2a3f5f\"},\"error_y\":{\"color\":\"#2a3f5f\"},\"marker\":{\"line\":{\"color\":\"#E5ECF6\",\"width\":0.5},\"pattern\":{\"fillmode\":\"overlay\",\"size\":10,\"solidity\":0.2}},\"type\":\"bar\"}],\"barpolar\":[{\"marker\":{\"line\":{\"color\":\"#E5ECF6\",\"width\":0.5},\"pattern\":{\"fillmode\":\"overlay\",\"size\":10,\"solidity\":0.2}},\"type\":\"barpolar\"}],\"carpet\":[{\"aaxis\":{\"endlinecolor\":\"#2a3f5f\",\"gridcolor\":\"white\",\"linecolor\":\"white\",\"minorgridcolor\":\"white\",\"startlinecolor\":\"#2a3f5f\"},\"baxis\":{\"endlinecolor\":\"#2a3f5f\",\"gridcolor\":\"white\",\"linecolor\":\"white\",\"minorgridcolor\":\"white\",\"startlinecolor\":\"#2a3f5f\"},\"type\":\"carpet\"}],\"choropleth\":[{\"colorbar\":{\"outlinewidth\":0,\"ticks\":\"\"},\"type\":\"choropleth\"}],\"contour\":[{\"colorbar\":{\"outlinewidth\":0,\"ticks\":\"\"},\"colorscale\":[[0.0,\"#0d0887\"],[0.1111111111111111,\"#46039f\"],[0.2222222222222222,\"#7201a8\"],[0.3333333333333333,\"#9c179e\"],[0.4444444444444444,\"#bd3786\"],[0.5555555555555556,\"#d8576b\"],[0.6666666666666666,\"#ed7953\"],[0.7777777777777778,\"#fb9f3a\"],[0.8888888888888888,\"#fdca26\"],[1.0,\"#f0f921\"]],\"type\":\"contour\"}],\"contourcarpet\":[{\"colorbar\":{\"outlinewidth\":0,\"ticks\":\"\"},\"type\":\"contourcarpet\"}],\"heatmap\":[{\"colorbar\":{\"outlinewidth\":0,\"ticks\":\"\"},\"colorscale\":[[0.0,\"#0d0887\"],[0.1111111111111111,\"#46039f\"],[0.2222222222222222,\"#7201a8\"],[0.3333333333333333,\"#9c179e\"],[0.4444444444444444,\"#bd3786\"],[0.5555555555555556,\"#d8576b\"],[0.6666666666666666,\"#ed7953\"],[0.7777777777777778,\"#fb9f3a\"],[0.8888888888888888,\"#fdca26\"],[1.0,\"#f0f921\"]],\"type\":\"heatmap\"}],\"heatmapgl\":[{\"colorbar\":{\"outlinewidth\":0,\"ticks\":\"\"},\"colorscale\":[[0.0,\"#0d0887\"],[0.1111111111111111,\"#46039f\"],[0.2222222222222222,\"#7201a8\"],[0.3333333333333333,\"#9c179e\"],[0.4444444444444444,\"#bd3786\"],[0.5555555555555556,\"#d8576b\"],[0.6666666666666666,\"#ed7953\"],[0.7777777777777778,\"#fb9f3a\"],[0.8888888888888888,\"#fdca26\"],[1.0,\"#f0f921\"]],\"type\":\"heatmapgl\"}],\"histogram\":[{\"marker\":{\"pattern\":{\"fillmode\":\"overlay\",\"size\":10,\"solidity\":0.2}},\"type\":\"histogram\"}],\"histogram2d\":[{\"colorbar\":{\"outlinewidth\":0,\"ticks\":\"\"},\"colorscale\":[[0.0,\"#0d0887\"],[0.1111111111111111,\"#46039f\"],[0.2222222222222222,\"#7201a8\"],[0.3333333333333333,\"#9c179e\"],[0.4444444444444444,\"#bd3786\"],[0.5555555555555556,\"#d8576b\"],[0.6666666666666666,\"#ed7953\"],[0.7777777777777778,\"#fb9f3a\"],[0.8888888888888888,\"#fdca26\"],[1.0,\"#f0f921\"]],\"type\":\"histogram2d\"}],\"histogram2dcontour\":[{\"colorbar\":{\"outlinewidth\":0,\"ticks\":\"\"},\"colorscale\":[[0.0,\"#0d0887\"],[0.1111111111111111,\"#46039f\"],[0.2222222222222222,\"#7201a8\"],[0.3333333333333333,\"#9c179e\"],[0.4444444444444444,\"#bd3786\"],[0.5555555555555556,\"#d8576b\"],[0.6666666666666666,\"#ed7953\"],[0.7777777777777778,\"#fb9f3a\"],[0.8888888888888888,\"#fdca26\"],[1.0,\"#f0f921\"]],\"type\":\"histogram2dcontour\"}],\"mesh3d\":[{\"colorbar\":{\"outlinewidth\":0,\"ticks\":\"\"},\"type\":\"mesh3d\"}],\"parcoords\":[{\"line\":{\"colorbar\":{\"outlinewidth\":0,\"ticks\":\"\"}},\"type\":\"parcoords\"}],\"pie\":[{\"automargin\":true,\"type\":\"pie\"}],\"scatter\":[{\"marker\":{\"colorbar\":{\"outlinewidth\":0,\"ticks\":\"\"}},\"type\":\"scatter\"}],\"scatter3d\":[{\"line\":{\"colorbar\":{\"outlinewidth\":0,\"ticks\":\"\"}},\"marker\":{\"colorbar\":{\"outlinewidth\":0,\"ticks\":\"\"}},\"type\":\"scatter3d\"}],\"scattercarpet\":[{\"marker\":{\"colorbar\":{\"outlinewidth\":0,\"ticks\":\"\"}},\"type\":\"scattercarpet\"}],\"scattergeo\":[{\"marker\":{\"colorbar\":{\"outlinewidth\":0,\"ticks\":\"\"}},\"type\":\"scattergeo\"}],\"scattergl\":[{\"marker\":{\"colorbar\":{\"outlinewidth\":0,\"ticks\":\"\"}},\"type\":\"scattergl\"}],\"scattermapbox\":[{\"marker\":{\"colorbar\":{\"outlinewidth\":0,\"ticks\":\"\"}},\"type\":\"scattermapbox\"}],\"scatterpolar\":[{\"marker\":{\"colorbar\":{\"outlinewidth\":0,\"ticks\":\"\"}},\"type\":\"scatterpolar\"}],\"scatterpolargl\":[{\"marker\":{\"colorbar\":{\"outlinewidth\":0,\"ticks\":\"\"}},\"type\":\"scatterpolargl\"}],\"scatterternary\":[{\"marker\":{\"colorbar\":{\"outlinewidth\":0,\"ticks\":\"\"}},\"type\":\"scatterternary\"}],\"surface\":[{\"colorbar\":{\"outlinewidth\":0,\"ticks\":\"\"},\"colorscale\":[[0.0,\"#0d0887\"],[0.1111111111111111,\"#46039f\"],[0.2222222222222222,\"#7201a8\"],[0.3333333333333333,\"#9c179e\"],[0.4444444444444444,\"#bd3786\"],[0.5555555555555556,\"#d8576b\"],[0.6666666666666666,\"#ed7953\"],[0.7777777777777778,\"#fb9f3a\"],[0.8888888888888888,\"#fdca26\"],[1.0,\"#f0f921\"]],\"type\":\"surface\"}],\"table\":[{\"cells\":{\"fill\":{\"color\":\"#EBF0F8\"},\"line\":{\"color\":\"white\"}},\"header\":{\"fill\":{\"color\":\"#C8D4E3\"},\"line\":{\"color\":\"white\"}},\"type\":\"table\"}]},\"layout\":{\"annotationdefaults\":{\"arrowcolor\":\"#2a3f5f\",\"arrowhead\":0,\"arrowwidth\":1},\"autotypenumbers\":\"strict\",\"coloraxis\":{\"colorbar\":{\"outlinewidth\":0,\"ticks\":\"\"}},\"colorscale\":{\"diverging\":[[0,\"#8e0152\"],[0.1,\"#c51b7d\"],[0.2,\"#de77ae\"],[0.3,\"#f1b6da\"],[0.4,\"#fde0ef\"],[0.5,\"#f7f7f7\"],[0.6,\"#e6f5d0\"],[0.7,\"#b8e186\"],[0.8,\"#7fbc41\"],[0.9,\"#4d9221\"],[1,\"#276419\"]],\"sequential\":[[0.0,\"#0d0887\"],[0.1111111111111111,\"#46039f\"],[0.2222222222222222,\"#7201a8\"],[0.3333333333333333,\"#9c179e\"],[0.4444444444444444,\"#bd3786\"],[0.5555555555555556,\"#d8576b\"],[0.6666666666666666,\"#ed7953\"],[0.7777777777777778,\"#fb9f3a\"],[0.8888888888888888,\"#fdca26\"],[1.0,\"#f0f921\"]],\"sequentialminus\":[[0.0,\"#0d0887\"],[0.1111111111111111,\"#46039f\"],[0.2222222222222222,\"#7201a8\"],[0.3333333333333333,\"#9c179e\"],[0.4444444444444444,\"#bd3786\"],[0.5555555555555556,\"#d8576b\"],[0.6666666666666666,\"#ed7953\"],[0.7777777777777778,\"#fb9f3a\"],[0.8888888888888888,\"#fdca26\"],[1.0,\"#f0f921\"]]},\"colorway\":[\"#636efa\",\"#EF553B\",\"#00cc96\",\"#ab63fa\",\"#FFA15A\",\"#19d3f3\",\"#FF6692\",\"#B6E880\",\"#FF97FF\",\"#FECB52\"],\"font\":{\"color\":\"#2a3f5f\"},\"geo\":{\"bgcolor\":\"white\",\"lakecolor\":\"white\",\"landcolor\":\"#E5ECF6\",\"showlakes\":true,\"showland\":true,\"subunitcolor\":\"white\"},\"hoverlabel\":{\"align\":\"left\"},\"hovermode\":\"closest\",\"mapbox\":{\"style\":\"light\"},\"paper_bgcolor\":\"white\",\"plot_bgcolor\":\"#E5ECF6\",\"polar\":{\"angularaxis\":{\"gridcolor\":\"white\",\"linecolor\":\"white\",\"ticks\":\"\"},\"bgcolor\":\"#E5ECF6\",\"radialaxis\":{\"gridcolor\":\"white\",\"linecolor\":\"white\",\"ticks\":\"\"}},\"scene\":{\"xaxis\":{\"backgroundcolor\":\"#E5ECF6\",\"gridcolor\":\"white\",\"gridwidth\":2,\"linecolor\":\"white\",\"showbackground\":true,\"ticks\":\"\",\"zerolinecolor\":\"white\"},\"yaxis\":{\"backgroundcolor\":\"#E5ECF6\",\"gridcolor\":\"white\",\"gridwidth\":2,\"linecolor\":\"white\",\"showbackground\":true,\"ticks\":\"\",\"zerolinecolor\":\"white\"},\"zaxis\":{\"backgroundcolor\":\"#E5ECF6\",\"gridcolor\":\"white\",\"gridwidth\":2,\"linecolor\":\"white\",\"showbackground\":true,\"ticks\":\"\",\"zerolinecolor\":\"white\"}},\"shapedefaults\":{\"line\":{\"color\":\"#2a3f5f\"}},\"ternary\":{\"aaxis\":{\"gridcolor\":\"white\",\"linecolor\":\"white\",\"ticks\":\"\"},\"baxis\":{\"gridcolor\":\"white\",\"linecolor\":\"white\",\"ticks\":\"\"},\"bgcolor\":\"#E5ECF6\",\"caxis\":{\"gridcolor\":\"white\",\"linecolor\":\"white\",\"ticks\":\"\"}},\"title\":{\"x\":0.05},\"xaxis\":{\"automargin\":true,\"gridcolor\":\"white\",\"linecolor\":\"white\",\"ticks\":\"\",\"title\":{\"standoff\":15},\"zerolinecolor\":\"white\",\"zerolinewidth\":2},\"yaxis\":{\"automargin\":true,\"gridcolor\":\"white\",\"linecolor\":\"white\",\"ticks\":\"\",\"title\":{\"standoff\":15},\"zerolinecolor\":\"white\",\"zerolinewidth\":2}}},\"scene\":{\"domain\":{\"x\":[0.0,0.45],\"y\":[0.0,1.0]},\"xaxis\":{\"range\":[-0.34653323888778687,0.7141333222389221],\"showgrid\":false,\"zeroline\":false,\"showline\":false,\"ticks\":\"\",\"showticklabels\":false,\"backgroundcolor\":\"#fff\",\"showaxeslabels\":false},\"yaxis\":{\"range\":[-0.14022839069366455,1.0053640604019165],\"showgrid\":false,\"zeroline\":false,\"showline\":false,\"ticks\":\"\",\"showticklabels\":false,\"backgroundcolor\":\"#fff\",\"showaxeslabels\":false},\"zaxis\":{\"range\":[-1.0366859436035156,-0.0814402848482132],\"showgrid\":false,\"zeroline\":false,\"showline\":false,\"ticks\":\"\",\"showticklabels\":false,\"backgroundcolor\":\"#fff\",\"showaxeslabels\":false},\"camera\":{\"up\":{\"x\":0,\"y\":1,\"z\":0}},\"aspectmode\":\"data\"},\"scene2\":{\"domain\":{\"x\":[0.55,1.0],\"y\":[0.0,1.0]},\"aspectmode\":\"data\"},\"annotations\":[{\"font\":{\"size\":16},\"showarrow\":false,\"text\":\"Predicted Cameras\",\"x\":0.225,\"xanchor\":\"center\",\"xref\":\"paper\",\"y\":1.0,\"yanchor\":\"bottom\",\"yref\":\"paper\"}]},                        {\"responsive\": true}                    ).then(function(){\n",
       "                            \n",
       "var gd = document.getElementById('e53ba807-4ce1-44c8-8e19-38e8dbc8f0a3');\n",
       "var x = new MutationObserver(function (mutations, observer) {{\n",
       "        var display = window.getComputedStyle(gd).display;\n",
       "        if (!display || display === 'none') {{\n",
       "            console.log([gd, 'removed!']);\n",
       "            Plotly.purge(gd);\n",
       "            observer.disconnect();\n",
       "        }}\n",
       "}});\n",
       "\n",
       "// Listen for the removal of the full notebook cells\n",
       "var notebookContainer = gd.closest('#notebook-container');\n",
       "if (notebookContainer) {{\n",
       "    x.observe(notebookContainer, {childList: true});\n",
       "}}\n",
       "\n",
       "// Listen for the clearing of the current output cell\n",
       "var outputEl = gd.closest('.output');\n",
       "if (outputEl) {{\n",
       "    x.observe(outputEl, {childList: true});\n",
       "}}\n",
       "\n",
       "                        })                };                });            </script>        </div>"
      ]
     },
     "metadata": {},
     "output_type": "display_data"
    }
   ],
   "source": [
    "# Construct cameras and visualize scene for best solution\n",
    "cameras_pred = FoVPerspectiveCameras(R=R_pred, T=T_pred)\n",
    "scenes = {\"Predicted Cameras\": {}}\n",
    "\n",
    "for i in range(num_frames):\n",
    "    scenes[\"Predicted Cameras\"][i] = FoVPerspectiveCameras(\n",
    "        R=R_pred[i, None], T=T_pred[i, None]\n",
    "    )\n",
    "\n",
    "fig = plot_scene(\n",
    "    scenes,\n",
    "    camera_scale=0.03,\n",
    "    ncols=2,\n",
    ")\n",
    "fig.update_scenes(aspectmode=\"data\")\n",
    "\n",
    "for i in range(num_frames):\n",
    "    fig.data[i].line.color = matplotlib.colors.to_hex(cmap(i / (num_frames)))\n",
    "\n",
    "fig"
   ]
  },
  {
   "cell_type": "code",
   "execution_count": null,
   "id": "b2f035bc",
   "metadata": {},
   "outputs": [],
   "source": []
  },
  {
   "cell_type": "code",
   "execution_count": null,
   "id": "dbd49b26",
   "metadata": {},
   "outputs": [],
   "source": []
  },
  {
   "cell_type": "code",
   "execution_count": null,
   "id": "9da639a2",
   "metadata": {},
   "outputs": [],
   "source": []
  },
  {
   "cell_type": "code",
   "execution_count": null,
   "id": "19f24de2",
   "metadata": {},
   "outputs": [],
   "source": []
  }
 ],
 "metadata": {
  "kernelspec": {
   "display_name": "Python 3 (ipykernel)",
   "language": "python",
   "name": "python3"
  },
  "language_info": {
   "codemirror_mode": {
    "name": "ipython",
    "version": 3
   },
   "file_extension": ".py",
   "mimetype": "text/x-python",
   "name": "python",
   "nbconvert_exporter": "python",
   "pygments_lexer": "ipython3",
   "version": "3.8.13"
  }
 },
 "nbformat": 4,
 "nbformat_minor": 5
}