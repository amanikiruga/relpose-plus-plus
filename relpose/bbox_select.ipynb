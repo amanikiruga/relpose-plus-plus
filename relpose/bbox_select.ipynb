{
 "cells": [
  {
   "cell_type": "code",
   "execution_count": 6,
   "id": "6f52f0ec",
   "metadata": {},
   "outputs": [
    {
     "name": "stdout",
     "output_type": "stream",
     "text": [
      "Dash is running on http://127.0.0.1:8050/\n",
      "\n"
     ]
    },
    {
     "name": "stderr",
     "output_type": "stream",
     "text": [
      "\u001b[31m\u001b[1mWARNING: This is a development server. Do not use it in a production deployment. Use a production WSGI server instead.\u001b[0m\n",
      " * Running on http://127.0.0.1:8050\n",
      "\u001b[33mPress CTRL+C to quit\u001b[0m\n",
      "127.0.0.1 - - [24/Mar/2023 10:06:40] \"GET /_alive_81992f87-947b-4074-91f7-d2ddcac07b6e HTTP/1.1\" 200 -\n"
     ]
    },
    {
     "data": {
      "text/html": [
       "\n",
       "        <iframe\n",
       "            width=\"100%\"\n",
       "            height=\"650\"\n",
       "            src=\"http://127.0.0.1:8050/\"\n",
       "            frameborder=\"0\"\n",
       "            allowfullscreen\n",
       "            \n",
       "        ></iframe>\n",
       "        "
      ],
      "text/plain": [
       "<IPython.lib.display.IFrame at 0x7f7bfc1f96d0>"
      ]
     },
     "metadata": {},
     "output_type": "display_data"
    }
   ],
   "source": [
    "from plotly.subplots import make_subplots\n",
    "import plotly.graph_objects as go\n",
    "from skimage import io\n",
    "import plotly.express as px\n",
    "import dash_core_components as dcc\n",
    "import dash_html_components as html\n",
    "from dash.dependencies import Input, Output\n",
    "from jupyter_dash import JupyterDash\n",
    "import cv2\n",
    "import numpy as np\n",
    "from plotly.subplots import make_subplots\n",
    "import os\n",
    "import os.path as osp\n",
    "\n",
    "app = JupyterDash(__name__)\n",
    "\n",
    "\n",
    "def process_list(l):\n",
    "\n",
    "    if len(l) < num_frames:\n",
    "        status = f\"Bounding box selected for {len(l)} out of {num_frames} images.\\n\"\n",
    "    else:\n",
    "        status = \"All bounding boxes have been selected.\\n\"\n",
    "\n",
    "    return status + str(l)\n",
    "\n",
    "\n",
    "@app.callback(\n",
    "    Output(\"bbox-data\", \"children\"),\n",
    "    Input(\"middle-sai\", \"relayoutData\"),\n",
    "    prevent_initial_call=True,\n",
    ")\n",
    "def on_new_annotation(relayout_data):\n",
    "\n",
    "    if \"shapes\" in relayout_data:\n",
    "        master_dict = {}\n",
    "\n",
    "        for i in range(len(relayout_data[\"shapes\"])):\n",
    "            key = relayout_data[\"shapes\"][i][\"xref\"]\n",
    "            x0 = int(relayout_data[\"shapes\"][i][\"x0\"])\n",
    "            y0 = int(relayout_data[\"shapes\"][i][\"y0\"])\n",
    "            x1 = int(relayout_data[\"shapes\"][i][\"x1\"])\n",
    "            y1 = int(relayout_data[\"shapes\"][i][\"y1\"])\n",
    "            master_dict[key] = [x0, y0, x1, y1]\n",
    "\n",
    "        l = [master_dict[k] for k in sorted(master_dict.keys())]\n",
    "\n",
    "        return html.Div([html.Div(process_list(l))], style={\"color\": \"white\"})\n",
    "\n",
    "    else:\n",
    "        return dash.no_update\n",
    "\n",
    "\n",
    "class select_bbox:\n",
    "    def __init__(self, image_dir):\n",
    "\n",
    "        self.swapped = []\n",
    "\n",
    "        image_paths = sorted(os.listdir(image_dir))\n",
    "        self.num_frames = len(image_paths)\n",
    "        num_rows = 1 if self.num_frames < 5 else 2\n",
    "        fig = make_subplots(rows=num_rows, cols=4)\n",
    "\n",
    "        for i in range(num_frames):\n",
    "            r, c = (i // 4 + 1), (i % 4 + 1)\n",
    "            img = io.imread(osp.join(image_dir, image_paths[i]))\n",
    "            fig.add_trace(go.Image(z=img), r, c)\n",
    "\n",
    "            fig.update_layout(\n",
    "                autosize=False,\n",
    "                width=1000,\n",
    "                height=400,\n",
    "                dragmode=\"drawrect\",\n",
    "                newshape=dict(line_color=\"cyan\"),\n",
    "            )\n",
    "\n",
    "        config = {\n",
    "            \"modeBarButtonsToAdd\": [\n",
    "                \"eraseshape\",\n",
    "            ]\n",
    "        }\n",
    "\n",
    "        app.layout = html.Div(\n",
    "            [\n",
    "                dcc.Graph(id=\"middle-sai\", figure=fig, config=config),\n",
    "                html.Pre(id=\"bbox-data\", style={\"color\": \"white\"}),\n",
    "                html.Div(id=\"all-bboxes\", style={\"color\": \"white\"}),\n",
    "            ]\n",
    "        )\n",
    "\n",
    "    def show_image(self):\n",
    "        app.run_server(debug=False, mode=\"inline\")\n",
    "\n",
    "\n",
    "s = select_bbox(\"/home/amyxlase/relpose-plus-plus/examples/espresso\")\n",
    "s.show_image()"
   ]
  },
  {
   "cell_type": "code",
   "execution_count": null,
   "id": "4500afaf",
   "metadata": {},
   "outputs": [],
   "source": []
  },
  {
   "cell_type": "code",
   "execution_count": null,
   "id": "ce2828bb",
   "metadata": {},
   "outputs": [],
   "source": []
  }
 ],
 "metadata": {
  "kernelspec": {
   "display_name": "Python 3 (ipykernel)",
   "language": "python",
   "name": "python3"
  },
  "language_info": {
   "codemirror_mode": {
    "name": "ipython",
    "version": 3
   },
   "file_extension": ".py",
   "mimetype": "text/x-python",
   "name": "python",
   "nbconvert_exporter": "python",
   "pygments_lexer": "ipython3",
   "version": "3.8.13"
  }
 },
 "nbformat": 4,
 "nbformat_minor": 5
}
